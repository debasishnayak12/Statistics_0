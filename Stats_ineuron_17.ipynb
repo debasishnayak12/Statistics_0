{
 "cells": [
  {
   "cell_type": "code",
   "execution_count": 151,
   "id": "51b95e4e",
   "metadata": {},
   "outputs": [],
   "source": [
    "import pandas as pd\n",
    "import numpy as np\n",
    "import matplotlib.pyplot as plt\n",
    "import seaborn as sns\n",
    "import statistics as stat\n",
    "import scipy.stats as stats\n",
    "import pylab"
   ]
  },
  {
   "cell_type": "code",
   "execution_count": 2,
   "id": "df9611fa",
   "metadata": {},
   "outputs": [
    {
     "name": "stdout",
     "output_type": "stream",
     "text": [
      "[60, 43, 52, 45, 39, 62, 27, 40, 28, 30]\n"
     ]
    }
   ],
   "source": [
    "import random\n",
    "data=[]\n",
    "\n",
    "for i in range(10):\n",
    "    random_num=random.randint(20,70)\n",
    "    data.append(random_num)\n",
    "    \n",
    "print(data)"
   ]
  },
  {
   "cell_type": "code",
   "execution_count": 3,
   "id": "c1a7193c",
   "metadata": {},
   "outputs": [
    {
     "data": {
      "text/plain": [
       "[60, 43, 52, 45, 39, 62, 27, 40, 28, 30]"
      ]
     },
     "execution_count": 3,
     "metadata": {},
     "output_type": "execute_result"
    }
   ],
   "source": [
    "data"
   ]
  },
  {
   "cell_type": "code",
   "execution_count": 4,
   "id": "35a86ba7",
   "metadata": {},
   "outputs": [
    {
     "data": {
      "text/html": [
       "<div>\n",
       "<style scoped>\n",
       "    .dataframe tbody tr th:only-of-type {\n",
       "        vertical-align: middle;\n",
       "    }\n",
       "\n",
       "    .dataframe tbody tr th {\n",
       "        vertical-align: top;\n",
       "    }\n",
       "\n",
       "    .dataframe thead th {\n",
       "        text-align: right;\n",
       "    }\n",
       "</style>\n",
       "<table border=\"1\" class=\"dataframe\">\n",
       "  <thead>\n",
       "    <tr style=\"text-align: right;\">\n",
       "      <th></th>\n",
       "      <th>PassengerId</th>\n",
       "      <th>Survived</th>\n",
       "      <th>Pclass</th>\n",
       "      <th>Name</th>\n",
       "      <th>Sex</th>\n",
       "      <th>Age</th>\n",
       "      <th>SibSp</th>\n",
       "      <th>Parch</th>\n",
       "      <th>Ticket</th>\n",
       "      <th>Fare</th>\n",
       "      <th>Cabin</th>\n",
       "      <th>Embarked</th>\n",
       "    </tr>\n",
       "  </thead>\n",
       "  <tbody>\n",
       "    <tr>\n",
       "      <th>0</th>\n",
       "      <td>1</td>\n",
       "      <td>0</td>\n",
       "      <td>3</td>\n",
       "      <td>Braund, Mr. Owen Harris</td>\n",
       "      <td>male</td>\n",
       "      <td>22.0</td>\n",
       "      <td>1</td>\n",
       "      <td>0</td>\n",
       "      <td>A/5 21171</td>\n",
       "      <td>7.2500</td>\n",
       "      <td>NaN</td>\n",
       "      <td>S</td>\n",
       "    </tr>\n",
       "    <tr>\n",
       "      <th>1</th>\n",
       "      <td>2</td>\n",
       "      <td>1</td>\n",
       "      <td>1</td>\n",
       "      <td>Cumings, Mrs. John Bradley (Florence Briggs Th...</td>\n",
       "      <td>female</td>\n",
       "      <td>38.0</td>\n",
       "      <td>1</td>\n",
       "      <td>0</td>\n",
       "      <td>PC 17599</td>\n",
       "      <td>71.2833</td>\n",
       "      <td>C85</td>\n",
       "      <td>C</td>\n",
       "    </tr>\n",
       "    <tr>\n",
       "      <th>2</th>\n",
       "      <td>3</td>\n",
       "      <td>1</td>\n",
       "      <td>3</td>\n",
       "      <td>Heikkinen, Miss. Laina</td>\n",
       "      <td>female</td>\n",
       "      <td>26.0</td>\n",
       "      <td>0</td>\n",
       "      <td>0</td>\n",
       "      <td>STON/O2. 3101282</td>\n",
       "      <td>7.9250</td>\n",
       "      <td>NaN</td>\n",
       "      <td>S</td>\n",
       "    </tr>\n",
       "    <tr>\n",
       "      <th>3</th>\n",
       "      <td>4</td>\n",
       "      <td>1</td>\n",
       "      <td>1</td>\n",
       "      <td>Futrelle, Mrs. Jacques Heath (Lily May Peel)</td>\n",
       "      <td>female</td>\n",
       "      <td>35.0</td>\n",
       "      <td>1</td>\n",
       "      <td>0</td>\n",
       "      <td>113803</td>\n",
       "      <td>53.1000</td>\n",
       "      <td>C123</td>\n",
       "      <td>S</td>\n",
       "    </tr>\n",
       "    <tr>\n",
       "      <th>4</th>\n",
       "      <td>5</td>\n",
       "      <td>0</td>\n",
       "      <td>3</td>\n",
       "      <td>Allen, Mr. William Henry</td>\n",
       "      <td>male</td>\n",
       "      <td>35.0</td>\n",
       "      <td>0</td>\n",
       "      <td>0</td>\n",
       "      <td>373450</td>\n",
       "      <td>8.0500</td>\n",
       "      <td>NaN</td>\n",
       "      <td>S</td>\n",
       "    </tr>\n",
       "  </tbody>\n",
       "</table>\n",
       "</div>"
      ],
      "text/plain": [
       "   PassengerId  Survived  Pclass  \\\n",
       "0            1         0       3   \n",
       "1            2         1       1   \n",
       "2            3         1       3   \n",
       "3            4         1       1   \n",
       "4            5         0       3   \n",
       "\n",
       "                                                Name     Sex   Age  SibSp  \\\n",
       "0                            Braund, Mr. Owen Harris    male  22.0      1   \n",
       "1  Cumings, Mrs. John Bradley (Florence Briggs Th...  female  38.0      1   \n",
       "2                             Heikkinen, Miss. Laina  female  26.0      0   \n",
       "3       Futrelle, Mrs. Jacques Heath (Lily May Peel)  female  35.0      1   \n",
       "4                           Allen, Mr. William Henry    male  35.0      0   \n",
       "\n",
       "   Parch            Ticket     Fare Cabin Embarked  \n",
       "0      0         A/5 21171   7.2500   NaN        S  \n",
       "1      0          PC 17599  71.2833   C85        C  \n",
       "2      0  STON/O2. 3101282   7.9250   NaN        S  \n",
       "3      0            113803  53.1000  C123        S  \n",
       "4      0            373450   8.0500   NaN        S  "
      ]
     },
     "execution_count": 4,
     "metadata": {},
     "output_type": "execute_result"
    }
   ],
   "source": [
    "data1=pd.read_csv(\"titanic_train.csv\")\n",
    "data1.head()"
   ]
  },
  {
   "cell_type": "code",
   "execution_count": 5,
   "id": "bd706b89",
   "metadata": {},
   "outputs": [
    {
     "data": {
      "text/html": [
       "<div>\n",
       "<style scoped>\n",
       "    .dataframe tbody tr th:only-of-type {\n",
       "        vertical-align: middle;\n",
       "    }\n",
       "\n",
       "    .dataframe tbody tr th {\n",
       "        vertical-align: top;\n",
       "    }\n",
       "\n",
       "    .dataframe thead th {\n",
       "        text-align: right;\n",
       "    }\n",
       "</style>\n",
       "<table border=\"1\" class=\"dataframe\">\n",
       "  <thead>\n",
       "    <tr style=\"text-align: right;\">\n",
       "      <th></th>\n",
       "      <th>sepal_length</th>\n",
       "      <th>sepal_width</th>\n",
       "      <th>petal_length</th>\n",
       "      <th>petal_width</th>\n",
       "      <th>species</th>\n",
       "    </tr>\n",
       "  </thead>\n",
       "  <tbody>\n",
       "    <tr>\n",
       "      <th>0</th>\n",
       "      <td>5.1</td>\n",
       "      <td>3.5</td>\n",
       "      <td>1.4</td>\n",
       "      <td>0.2</td>\n",
       "      <td>setosa</td>\n",
       "    </tr>\n",
       "    <tr>\n",
       "      <th>1</th>\n",
       "      <td>4.9</td>\n",
       "      <td>3.0</td>\n",
       "      <td>1.4</td>\n",
       "      <td>0.2</td>\n",
       "      <td>setosa</td>\n",
       "    </tr>\n",
       "    <tr>\n",
       "      <th>2</th>\n",
       "      <td>4.7</td>\n",
       "      <td>3.2</td>\n",
       "      <td>1.3</td>\n",
       "      <td>0.2</td>\n",
       "      <td>setosa</td>\n",
       "    </tr>\n",
       "    <tr>\n",
       "      <th>3</th>\n",
       "      <td>4.6</td>\n",
       "      <td>3.1</td>\n",
       "      <td>1.5</td>\n",
       "      <td>0.2</td>\n",
       "      <td>setosa</td>\n",
       "    </tr>\n",
       "    <tr>\n",
       "      <th>4</th>\n",
       "      <td>5.0</td>\n",
       "      <td>3.6</td>\n",
       "      <td>1.4</td>\n",
       "      <td>0.2</td>\n",
       "      <td>setosa</td>\n",
       "    </tr>\n",
       "  </tbody>\n",
       "</table>\n",
       "</div>"
      ],
      "text/plain": [
       "   sepal_length  sepal_width  petal_length  petal_width species\n",
       "0           5.1          3.5           1.4          0.2  setosa\n",
       "1           4.9          3.0           1.4          0.2  setosa\n",
       "2           4.7          3.2           1.3          0.2  setosa\n",
       "3           4.6          3.1           1.5          0.2  setosa\n",
       "4           5.0          3.6           1.4          0.2  setosa"
      ]
     },
     "execution_count": 5,
     "metadata": {},
     "output_type": "execute_result"
    }
   ],
   "source": [
    "data2=pd.read_csv(\"iris.csv\")\n",
    "data2.head()"
   ]
  },
  {
   "cell_type": "markdown",
   "id": "aa8705d0",
   "metadata": {},
   "source": [
    "# Central Tendency"
   ]
  },
  {
   "cell_type": "code",
   "execution_count": 6,
   "id": "40dca93f",
   "metadata": {},
   "outputs": [
    {
     "data": {
      "text/plain": [
       "42.6"
      ]
     },
     "execution_count": 6,
     "metadata": {},
     "output_type": "execute_result"
    }
   ],
   "source": [
    "data_copy=data.copy()\n",
    "np.mean(data_copy)"
   ]
  },
  {
   "cell_type": "code",
   "execution_count": 7,
   "id": "e8b2185b",
   "metadata": {},
   "outputs": [
    {
     "data": {
      "text/plain": [
       "41.5"
      ]
     },
     "execution_count": 7,
     "metadata": {},
     "output_type": "execute_result"
    }
   ],
   "source": [
    "np.median(data_copy)"
   ]
  },
  {
   "cell_type": "code",
   "execution_count": 8,
   "id": "3553a3ea",
   "metadata": {},
   "outputs": [
    {
     "data": {
      "text/plain": [
       "5.843333333333334"
      ]
     },
     "execution_count": 8,
     "metadata": {},
     "output_type": "execute_result"
    }
   ],
   "source": [
    "#mean for sepal length\n",
    "np.mean(data2[\"sepal_length\"])"
   ]
  },
  {
   "cell_type": "code",
   "execution_count": 9,
   "id": "68d7a811",
   "metadata": {},
   "outputs": [
    {
     "data": {
      "text/plain": [
       "24.0"
      ]
     },
     "execution_count": 9,
     "metadata": {},
     "output_type": "execute_result"
    }
   ],
   "source": [
    "#mode of the Age pf data1\n",
    "stat.mode(data1[\"Age\"])"
   ]
  },
  {
   "cell_type": "code",
   "execution_count": 10,
   "id": "6fab2e96",
   "metadata": {},
   "outputs": [
    {
     "data": {
      "text/plain": [
       "'male'"
      ]
     },
     "execution_count": 10,
     "metadata": {},
     "output_type": "execute_result"
    }
   ],
   "source": [
    "#mode of sex off data1\n",
    "stat.mode(data1[\"Sex\"])"
   ]
  },
  {
   "cell_type": "code",
   "execution_count": 11,
   "id": "69d55e29",
   "metadata": {},
   "outputs": [
    {
     "data": {
      "text/plain": [
       "14.4542"
      ]
     },
     "execution_count": 11,
     "metadata": {},
     "output_type": "execute_result"
    }
   ],
   "source": [
    "#mdedian of fare column\n",
    "np.median(data1[\"Fare\"])"
   ]
  },
  {
   "cell_type": "code",
   "execution_count": 12,
   "id": "86a462c3",
   "metadata": {},
   "outputs": [
    {
     "data": {
      "text/plain": [
       "3.0540000000000003"
      ]
     },
     "execution_count": 12,
     "metadata": {},
     "output_type": "execute_result"
    }
   ],
   "source": [
    "#mean of sepal width\n",
    "np.mean(data2[\"sepal_width\"])"
   ]
  },
  {
   "cell_type": "code",
   "execution_count": 13,
   "id": "80908107",
   "metadata": {},
   "outputs": [
    {
     "data": {
      "text/plain": [
       "'setosa'"
      ]
     },
     "execution_count": 13,
     "metadata": {},
     "output_type": "execute_result"
    }
   ],
   "source": [
    "# mode of species\n",
    "stat.mode(data2[\"species\"])"
   ]
  },
  {
   "cell_type": "code",
   "execution_count": 14,
   "id": "bf0b9ad7",
   "metadata": {},
   "outputs": [
    {
     "data": {
      "text/plain": [
       "[60, 43, 52, 45, 39, 62, 27, 40, 28, 30]"
      ]
     },
     "execution_count": 14,
     "metadata": {},
     "output_type": "execute_result"
    }
   ],
   "source": [
    "data_copy"
   ]
  },
  {
   "cell_type": "code",
   "execution_count": 15,
   "id": "b093dd56",
   "metadata": {},
   "outputs": [
    {
     "data": {
      "text/plain": [
       "42.6"
      ]
     },
     "execution_count": 15,
     "metadata": {},
     "output_type": "execute_result"
    }
   ],
   "source": [
    "#mean of data_copy\n",
    "\n",
    "def data_mean(x):\n",
    "    n=len(x)\n",
    "    mean=sum(x)/n\n",
    "    return mean\n",
    "data_mean(data_copy)\n",
    "        \n",
    "    "
   ]
  },
  {
   "cell_type": "code",
   "execution_count": 16,
   "id": "a73bfcac",
   "metadata": {},
   "outputs": [
    {
     "data": {
      "text/plain": [
       "42.6"
      ]
     },
     "execution_count": 16,
     "metadata": {},
     "output_type": "execute_result"
    }
   ],
   "source": [
    "np.mean(data_copy)"
   ]
  },
  {
   "cell_type": "code",
   "execution_count": 17,
   "id": "2761df83",
   "metadata": {},
   "outputs": [],
   "source": [
    "data_copy.append(200)"
   ]
  },
  {
   "cell_type": "code",
   "execution_count": 18,
   "id": "e3ee96d6",
   "metadata": {},
   "outputs": [
    {
     "data": {
      "text/plain": [
       "[60, 43, 52, 45, 39, 62, 27, 40, 28, 30, 200]"
      ]
     },
     "execution_count": 18,
     "metadata": {},
     "output_type": "execute_result"
    }
   ],
   "source": [
    "data_copy"
   ]
  },
  {
   "cell_type": "code",
   "execution_count": 19,
   "id": "9b512ba1",
   "metadata": {},
   "outputs": [
    {
     "data": {
      "text/plain": [
       "56.90909090909091"
      ]
     },
     "execution_count": 19,
     "metadata": {},
     "output_type": "execute_result"
    }
   ],
   "source": [
    "np.mean(data_copy)"
   ]
  },
  {
   "cell_type": "markdown",
   "id": "7d4ed73d",
   "metadata": {},
   "source": [
    "outliers will affect the mean of data but the median will be nearly same"
   ]
  },
  {
   "cell_type": "code",
   "execution_count": 20,
   "id": "a44190fd",
   "metadata": {},
   "outputs": [
    {
     "data": {
      "text/plain": [
       "43.0"
      ]
     },
     "execution_count": 20,
     "metadata": {},
     "output_type": "execute_result"
    }
   ],
   "source": [
    "np.median(data_copy)"
   ]
  },
  {
   "cell_type": "code",
   "execution_count": 21,
   "id": "893bf021",
   "metadata": {},
   "outputs": [
    {
     "data": {
      "text/plain": [
       "<Axes: >"
      ]
     },
     "execution_count": 21,
     "metadata": {},
     "output_type": "execute_result"
    },
    {
     "data": {
      "image/png": "[encoded data removed]",
      "text/plain": [
       "<Figure size 640x480 with 1 Axes>"
      ]
     },
     "metadata": {},
     "output_type": "display_data"
    }
   ],
   "source": [
    "#findng outliers sing boxplot\n",
    "sns.boxplot(data_copy)"
   ]
  },
  {
   "cell_type": "code",
   "execution_count": 22,
   "id": "43148176",
   "metadata": {},
   "outputs": [
    {
     "data": {
      "text/plain": [
       "<Axes: ylabel='Count'>"
      ]
     },
     "execution_count": 22,
     "metadata": {},
     "output_type": "execute_result"
    },
    {
     "data": {
      "image/png": "[encoded data removed]",
      "text/plain": [
       "<Figure size 640x480 with 1 Axes>"
      ]
     },
     "metadata": {},
     "output_type": "display_data"
    }
   ],
   "source": [
    "sns.histplot(data_copy,kde=True)\n",
    "#bcz of outliers it showing right skewed structure"
   ]
  },
  {
   "cell_type": "code",
   "execution_count": 23,
   "id": "86199ac1",
   "metadata": {},
   "outputs": [
    {
     "data": {
      "text/plain": [
       "200"
      ]
     },
     "execution_count": 23,
     "metadata": {},
     "output_type": "execute_result"
    }
   ],
   "source": [
    "data_copy.pop()"
   ]
  },
  {
   "cell_type": "code",
   "execution_count": 24,
   "id": "fca1b525",
   "metadata": {},
   "outputs": [
    {
     "data": {
      "text/plain": [
       "30"
      ]
     },
     "execution_count": 24,
     "metadata": {},
     "output_type": "execute_result"
    }
   ],
   "source": [
    "data_copy.pop()"
   ]
  },
  {
   "cell_type": "code",
   "execution_count": 25,
   "id": "984e72fd",
   "metadata": {},
   "outputs": [
    {
     "data": {
      "text/plain": [
       "[60, 43, 52, 45, 39, 62, 27, 40, 28]"
      ]
     },
     "execution_count": 25,
     "metadata": {},
     "output_type": "execute_result"
    }
   ],
   "source": [
    "data_copy"
   ]
  },
  {
   "cell_type": "code",
   "execution_count": 26,
   "id": "3776c867",
   "metadata": {},
   "outputs": [
    {
     "data": {
      "text/plain": [
       "array([39.])"
      ]
     },
     "execution_count": 26,
     "metadata": {},
     "output_type": "execute_result"
    }
   ],
   "source": [
    "np.percentile(data_copy,[25])"
   ]
  },
  {
   "cell_type": "code",
   "execution_count": 27,
   "id": "cc6ead97",
   "metadata": {},
   "outputs": [
    {
     "data": {
      "text/plain": [
       "array([52.])"
      ]
     },
     "execution_count": 27,
     "metadata": {},
     "output_type": "execute_result"
    }
   ],
   "source": [
    "np.percentile(data_copy,[75])"
   ]
  },
  {
   "cell_type": "markdown",
   "id": "cff84076",
   "metadata": {},
   "source": [
    "# Finding lower and higher fence for finding outliers"
   ]
  },
  {
   "cell_type": "code",
   "execution_count": 28,
   "id": "31b281cb",
   "metadata": {},
   "outputs": [
    {
     "data": {
      "text/plain": [
       "(39.0, 43.0, 52.0)"
      ]
     },
     "execution_count": 28,
     "metadata": {},
     "output_type": "execute_result"
    }
   ],
   "source": [
    "q1,q2,q3=np.percentile(data_copy,[25,50,75])\n",
    "q1,q2,q3"
   ]
  },
  {
   "cell_type": "code",
   "execution_count": 29,
   "id": "371b8719",
   "metadata": {},
   "outputs": [
    {
     "data": {
      "text/plain": [
       "13.0"
      ]
     },
     "execution_count": 29,
     "metadata": {},
     "output_type": "execute_result"
    }
   ],
   "source": [
    "IQR=q3-q1\n",
    "IQR"
   ]
  },
  {
   "cell_type": "code",
   "execution_count": 30,
   "id": "a4be6bb6",
   "metadata": {},
   "outputs": [
    {
     "data": {
      "text/plain": [
       "(19.5, 71.5)"
      ]
     },
     "execution_count": 30,
     "metadata": {},
     "output_type": "execute_result"
    }
   ],
   "source": [
    "lower_fence=q1-(IQR*1.5)\n",
    "higher_fence=q3+(IQR*1.5)\n",
    "lower_fence,higher_fence\n"
   ]
  },
  {
   "cell_type": "code",
   "execution_count": 31,
   "id": "ac816f2a",
   "metadata": {},
   "outputs": [
    {
     "data": {
      "text/plain": [
       "<Axes: >"
      ]
     },
     "execution_count": 31,
     "metadata": {},
     "output_type": "execute_result"
    },
    {
     "data": {
      "image/png": "[encoded data removed]",
      "text/plain": [
       "<Figure size 640x480 with 1 Axes>"
      ]
     },
     "metadata": {},
     "output_type": "display_data"
    }
   ],
   "source": [
    "sns.boxplot(data_copy)"
   ]
  },
  {
   "cell_type": "code",
   "execution_count": 32,
   "id": "386203b4",
   "metadata": {},
   "outputs": [],
   "source": [
    "data_copy.insert(-1,100)"
   ]
  },
  {
   "cell_type": "code",
   "execution_count": 33,
   "id": "f487e87a",
   "metadata": {},
   "outputs": [
    {
     "data": {
      "text/plain": [
       "[60, 43, 52, 45, 39, 62, 27, 40, 100, 28]"
      ]
     },
     "execution_count": 33,
     "metadata": {},
     "output_type": "execute_result"
    }
   ],
   "source": [
    "data_copy"
   ]
  },
  {
   "cell_type": "code",
   "execution_count": 34,
   "id": "46b900bc",
   "metadata": {},
   "outputs": [
    {
     "data": {
      "text/plain": [
       "<Axes: >"
      ]
     },
     "execution_count": 34,
     "metadata": {},
     "output_type": "execute_result"
    },
    {
     "data": {
      "image/png": "[encoded data removed]",
      "text/plain": [
       "<Figure size 640x480 with 1 Axes>"
      ]
     },
     "metadata": {},
     "output_type": "display_data"
    }
   ],
   "source": [
    "sns.boxplot(data_copy)"
   ]
  },
  {
   "cell_type": "markdown",
   "id": "06700f9c",
   "metadata": {},
   "source": [
    "# variance,std,correlation and covariance"
   ]
  },
  {
   "cell_type": "code",
   "execution_count": 35,
   "id": "20ebd6db",
   "metadata": {},
   "outputs": [
    {
     "data": {
      "text/plain": [
       "[60, 43, 52, 45, 39, 62, 27, 40, 28, 30]"
      ]
     },
     "execution_count": 35,
     "metadata": {},
     "output_type": "execute_result"
    }
   ],
   "source": [
    "data_copy=data.copy()\n",
    "data_copy"
   ]
  },
  {
   "cell_type": "code",
   "execution_count": 36,
   "id": "e27bddab",
   "metadata": {},
   "outputs": [
    {
     "data": {
      "text/plain": [
       "140.84"
      ]
     },
     "execution_count": 36,
     "metadata": {},
     "output_type": "execute_result"
    }
   ],
   "source": [
    "#variance of data(population var)\n",
    "np.var(data_copy)"
   ]
  },
  {
   "cell_type": "code",
   "execution_count": 37,
   "id": "a1374024",
   "metadata": {},
   "outputs": [
    {
     "data": {
      "text/plain": [
       "11.867602959317438"
      ]
     },
     "execution_count": 37,
     "metadata": {},
     "output_type": "execute_result"
    }
   ],
   "source": [
    "#standard deviation pf data\n",
    "np.std(data_copy)"
   ]
  },
  {
   "cell_type": "code",
   "execution_count": 38,
   "id": "c748a7f5",
   "metadata": {},
   "outputs": [
    {
     "data": {
      "text/plain": [
       "156.48888888888888"
      ]
     },
     "execution_count": 38,
     "metadata": {},
     "output_type": "execute_result"
    }
   ],
   "source": [
    "#sample variance\n",
    "stat.variance(data_copy)"
   ]
  },
  {
   "cell_type": "code",
   "execution_count": 39,
   "id": "91da6216",
   "metadata": {},
   "outputs": [
    {
     "data": {
      "text/plain": [
       "140.84"
      ]
     },
     "execution_count": 39,
     "metadata": {},
     "output_type": "execute_result"
    }
   ],
   "source": [
    "#population variance\n",
    "stat.pvariance(data_copy)"
   ]
  },
  {
   "cell_type": "code",
   "execution_count": 40,
   "id": "a1564468",
   "metadata": {},
   "outputs": [
    {
     "data": {
      "text/plain": [
       "140.84"
      ]
     },
     "execution_count": 40,
     "metadata": {},
     "output_type": "execute_result"
    }
   ],
   "source": [
    "def cal_variance(data):\n",
    "    mean=np.mean(data)\n",
    "    n=len(data)\n",
    "    \n",
    "    deviation=[(x-mean)**2 for x in data]\n",
    "    variance=sum(deviation)/n\n",
    "    return variance\n",
    "cal_variance(data_copy)"
   ]
  },
  {
   "cell_type": "code",
   "execution_count": 41,
   "id": "12d0846c",
   "metadata": {},
   "outputs": [
    {
     "name": "stderr",
     "output_type": "stream",
     "text": [
      "C:\\Users\\madhu\\AppData\\Local\\Temp\\ipykernel_19372\\1981098430.py:1: FutureWarning: The default value of numeric_only in DataFrame.corr is deprecated. In a future version, it will default to False. Select only valid columns or specify the value of numeric_only to silence this warning.\n",
      "  data2.corr()\n"
     ]
    },
    {
     "data": {
      "text/html": [
       "<div>\n",
       "<style scoped>\n",
       "    .dataframe tbody tr th:only-of-type {\n",
       "        vertical-align: middle;\n",
       "    }\n",
       "\n",
       "    .dataframe tbody tr th {\n",
       "        vertical-align: top;\n",
       "    }\n",
       "\n",
       "    .dataframe thead th {\n",
       "        text-align: right;\n",
       "    }\n",
       "</style>\n",
       "<table border=\"1\" class=\"dataframe\">\n",
       "  <thead>\n",
       "    <tr style=\"text-align: right;\">\n",
       "      <th></th>\n",
       "      <th>sepal_length</th>\n",
       "      <th>sepal_width</th>\n",
       "      <th>petal_length</th>\n",
       "      <th>petal_width</th>\n",
       "    </tr>\n",
       "  </thead>\n",
       "  <tbody>\n",
       "    <tr>\n",
       "      <th>sepal_length</th>\n",
       "      <td>1.000000</td>\n",
       "      <td>-0.109369</td>\n",
       "      <td>0.871754</td>\n",
       "      <td>0.817954</td>\n",
       "    </tr>\n",
       "    <tr>\n",
       "      <th>sepal_width</th>\n",
       "      <td>-0.109369</td>\n",
       "      <td>1.000000</td>\n",
       "      <td>-0.420516</td>\n",
       "      <td>-0.356544</td>\n",
       "    </tr>\n",
       "    <tr>\n",
       "      <th>petal_length</th>\n",
       "      <td>0.871754</td>\n",
       "      <td>-0.420516</td>\n",
       "      <td>1.000000</td>\n",
       "      <td>0.962757</td>\n",
       "    </tr>\n",
       "    <tr>\n",
       "      <th>petal_width</th>\n",
       "      <td>0.817954</td>\n",
       "      <td>-0.356544</td>\n",
       "      <td>0.962757</td>\n",
       "      <td>1.000000</td>\n",
       "    </tr>\n",
       "  </tbody>\n",
       "</table>\n",
       "</div>"
      ],
      "text/plain": [
       "              sepal_length  sepal_width  petal_length  petal_width\n",
       "sepal_length      1.000000    -0.109369      0.871754     0.817954\n",
       "sepal_width      -0.109369     1.000000     -0.420516    -0.356544\n",
       "petal_length      0.871754    -0.420516      1.000000     0.962757\n",
       "petal_width       0.817954    -0.356544      0.962757     1.000000"
      ]
     },
     "execution_count": 41,
     "metadata": {},
     "output_type": "execute_result"
    }
   ],
   "source": [
    "data2.corr()"
   ]
  },
  {
   "cell_type": "code",
   "execution_count": 42,
   "id": "99bd0e52",
   "metadata": {},
   "outputs": [
    {
     "data": {
      "text/plain": [
       "array(156.48888889)"
      ]
     },
     "execution_count": 42,
     "metadata": {},
     "output_type": "execute_result"
    }
   ],
   "source": [
    "np.cov(data_copy)"
   ]
  },
  {
   "cell_type": "code",
   "execution_count": 43,
   "id": "1176fcba",
   "metadata": {},
   "outputs": [
    {
     "data": {
      "text/plain": [
       "array(0.68569351)"
      ]
     },
     "execution_count": 43,
     "metadata": {},
     "output_type": "execute_result"
    }
   ],
   "source": [
    "np.cov(data2[\"sepal_length\"])"
   ]
  },
  {
   "cell_type": "code",
   "execution_count": 44,
   "id": "29beeeab",
   "metadata": {},
   "outputs": [
    {
     "data": {
      "text/html": [
       "<div>\n",
       "<style scoped>\n",
       "    .dataframe tbody tr th:only-of-type {\n",
       "        vertical-align: middle;\n",
       "    }\n",
       "\n",
       "    .dataframe tbody tr th {\n",
       "        vertical-align: top;\n",
       "    }\n",
       "\n",
       "    .dataframe thead th {\n",
       "        text-align: right;\n",
       "    }\n",
       "</style>\n",
       "<table border=\"1\" class=\"dataframe\">\n",
       "  <thead>\n",
       "    <tr style=\"text-align: right;\">\n",
       "      <th></th>\n",
       "      <th>sepal_length</th>\n",
       "      <th>sepal_width</th>\n",
       "      <th>petal_length</th>\n",
       "      <th>petal_width</th>\n",
       "      <th>species</th>\n",
       "    </tr>\n",
       "  </thead>\n",
       "  <tbody>\n",
       "    <tr>\n",
       "      <th>0</th>\n",
       "      <td>5.1</td>\n",
       "      <td>3.5</td>\n",
       "      <td>1.4</td>\n",
       "      <td>0.2</td>\n",
       "      <td>setosa</td>\n",
       "    </tr>\n",
       "    <tr>\n",
       "      <th>1</th>\n",
       "      <td>4.9</td>\n",
       "      <td>3.0</td>\n",
       "      <td>1.4</td>\n",
       "      <td>0.2</td>\n",
       "      <td>setosa</td>\n",
       "    </tr>\n",
       "    <tr>\n",
       "      <th>2</th>\n",
       "      <td>4.7</td>\n",
       "      <td>3.2</td>\n",
       "      <td>1.3</td>\n",
       "      <td>0.2</td>\n",
       "      <td>setosa</td>\n",
       "    </tr>\n",
       "    <tr>\n",
       "      <th>3</th>\n",
       "      <td>4.6</td>\n",
       "      <td>3.1</td>\n",
       "      <td>1.5</td>\n",
       "      <td>0.2</td>\n",
       "      <td>setosa</td>\n",
       "    </tr>\n",
       "    <tr>\n",
       "      <th>4</th>\n",
       "      <td>5.0</td>\n",
       "      <td>3.6</td>\n",
       "      <td>1.4</td>\n",
       "      <td>0.2</td>\n",
       "      <td>setosa</td>\n",
       "    </tr>\n",
       "  </tbody>\n",
       "</table>\n",
       "</div>"
      ],
      "text/plain": [
       "   sepal_length  sepal_width  petal_length  petal_width species\n",
       "0           5.1          3.5           1.4          0.2  setosa\n",
       "1           4.9          3.0           1.4          0.2  setosa\n",
       "2           4.7          3.2           1.3          0.2  setosa\n",
       "3           4.6          3.1           1.5          0.2  setosa\n",
       "4           5.0          3.6           1.4          0.2  setosa"
      ]
     },
     "execution_count": 44,
     "metadata": {},
     "output_type": "execute_result"
    }
   ],
   "source": [
    "data2.head()"
   ]
  },
  {
   "cell_type": "code",
   "execution_count": 45,
   "id": "c422544f",
   "metadata": {},
   "outputs": [
    {
     "name": "stderr",
     "output_type": "stream",
     "text": [
      "C:\\Users\\madhu\\AppData\\Local\\Temp\\ipykernel_19372\\3734675979.py:1: FutureWarning: The default value of numeric_only in DataFrame.corr is deprecated. In a future version, it will default to False. Select only valid columns or specify the value of numeric_only to silence this warning.\n",
      "  data1.corr()\n"
     ]
    },
    {
     "data": {
      "text/html": [
       "<div>\n",
       "<style scoped>\n",
       "    .dataframe tbody tr th:only-of-type {\n",
       "        vertical-align: middle;\n",
       "    }\n",
       "\n",
       "    .dataframe tbody tr th {\n",
       "        vertical-align: top;\n",
       "    }\n",
       "\n",
       "    .dataframe thead th {\n",
       "        text-align: right;\n",
       "    }\n",
       "</style>\n",
       "<table border=\"1\" class=\"dataframe\">\n",
       "  <thead>\n",
       "    <tr style=\"text-align: right;\">\n",
       "      <th></th>\n",
       "      <th>PassengerId</th>\n",
       "      <th>Survived</th>\n",
       "      <th>Pclass</th>\n",
       "      <th>Age</th>\n",
       "      <th>SibSp</th>\n",
       "      <th>Parch</th>\n",
       "      <th>Fare</th>\n",
       "    </tr>\n",
       "  </thead>\n",
       "  <tbody>\n",
       "    <tr>\n",
       "      <th>PassengerId</th>\n",
       "      <td>1.000000</td>\n",
       "      <td>-0.005007</td>\n",
       "      <td>-0.035144</td>\n",
       "      <td>0.036847</td>\n",
       "      <td>-0.057527</td>\n",
       "      <td>-0.001652</td>\n",
       "      <td>0.012658</td>\n",
       "    </tr>\n",
       "    <tr>\n",
       "      <th>Survived</th>\n",
       "      <td>-0.005007</td>\n",
       "      <td>1.000000</td>\n",
       "      <td>-0.338481</td>\n",
       "      <td>-0.077221</td>\n",
       "      <td>-0.035322</td>\n",
       "      <td>0.081629</td>\n",
       "      <td>0.257307</td>\n",
       "    </tr>\n",
       "    <tr>\n",
       "      <th>Pclass</th>\n",
       "      <td>-0.035144</td>\n",
       "      <td>-0.338481</td>\n",
       "      <td>1.000000</td>\n",
       "      <td>-0.369226</td>\n",
       "      <td>0.083081</td>\n",
       "      <td>0.018443</td>\n",
       "      <td>-0.549500</td>\n",
       "    </tr>\n",
       "    <tr>\n",
       "      <th>Age</th>\n",
       "      <td>0.036847</td>\n",
       "      <td>-0.077221</td>\n",
       "      <td>-0.369226</td>\n",
       "      <td>1.000000</td>\n",
       "      <td>-0.308247</td>\n",
       "      <td>-0.189119</td>\n",
       "      <td>0.096067</td>\n",
       "    </tr>\n",
       "    <tr>\n",
       "      <th>SibSp</th>\n",
       "      <td>-0.057527</td>\n",
       "      <td>-0.035322</td>\n",
       "      <td>0.083081</td>\n",
       "      <td>-0.308247</td>\n",
       "      <td>1.000000</td>\n",
       "      <td>0.414838</td>\n",
       "      <td>0.159651</td>\n",
       "    </tr>\n",
       "    <tr>\n",
       "      <th>Parch</th>\n",
       "      <td>-0.001652</td>\n",
       "      <td>0.081629</td>\n",
       "      <td>0.018443</td>\n",
       "      <td>-0.189119</td>\n",
       "      <td>0.414838</td>\n",
       "      <td>1.000000</td>\n",
       "      <td>0.216225</td>\n",
       "    </tr>\n",
       "    <tr>\n",
       "      <th>Fare</th>\n",
       "      <td>0.012658</td>\n",
       "      <td>0.257307</td>\n",
       "      <td>-0.549500</td>\n",
       "      <td>0.096067</td>\n",
       "      <td>0.159651</td>\n",
       "      <td>0.216225</td>\n",
       "      <td>1.000000</td>\n",
       "    </tr>\n",
       "  </tbody>\n",
       "</table>\n",
       "</div>"
      ],
      "text/plain": [
       "             PassengerId  Survived    Pclass       Age     SibSp     Parch  \\\n",
       "PassengerId     1.000000 -0.005007 -0.035144  0.036847 -0.057527 -0.001652   \n",
       "Survived       -0.005007  1.000000 -0.338481 -0.077221 -0.035322  0.081629   \n",
       "Pclass         -0.035144 -0.338481  1.000000 -0.369226  0.083081  0.018443   \n",
       "Age             0.036847 -0.077221 -0.369226  1.000000 -0.308247 -0.189119   \n",
       "SibSp          -0.057527 -0.035322  0.083081 -0.308247  1.000000  0.414838   \n",
       "Parch          -0.001652  0.081629  0.018443 -0.189119  0.414838  1.000000   \n",
       "Fare            0.012658  0.257307 -0.549500  0.096067  0.159651  0.216225   \n",
       "\n",
       "                 Fare  \n",
       "PassengerId  0.012658  \n",
       "Survived     0.257307  \n",
       "Pclass      -0.549500  \n",
       "Age          0.096067  \n",
       "SibSp        0.159651  \n",
       "Parch        0.216225  \n",
       "Fare         1.000000  "
      ]
     },
     "execution_count": 45,
     "metadata": {},
     "output_type": "execute_result"
    }
   ],
   "source": [
    "data1.corr()"
   ]
  },
  {
   "cell_type": "code",
   "execution_count": 46,
   "id": "2b937db7",
   "metadata": {
    "scrolled": true
   },
   "outputs": [
    {
     "data": {
      "text/plain": [
       "<Axes: xlabel='petal_width', ylabel='petal_length'>"
      ]
     },
     "execution_count": 46,
     "metadata": {},
     "output_type": "execute_result"
    },
    {
     "data": {
      "image/png": "[encoded data removed]",
      "text/plain": [
       "<Figure size 640x480 with 1 Axes>"
      ]
     },
     "metadata": {},
     "output_type": "display_data"
    }
   ],
   "source": [
    "sns.scatterplot(x=data2[\"petal_width\"],y=data2[\"petal_length\"])"
   ]
  },
  {
   "cell_type": "code",
   "execution_count": null,
   "id": "7209583e",
   "metadata": {},
   "outputs": [],
   "source": []
  },
  {
   "cell_type": "code",
   "execution_count": 47,
   "id": "7abb3e68",
   "metadata": {},
   "outputs": [],
   "source": [
    "data=[23,24,32,45,12,43,67,45,32,56,32]"
   ]
  },
  {
   "cell_type": "code",
   "execution_count": 70,
   "id": "af9ef546",
   "metadata": {},
   "outputs": [],
   "source": [
    "data_copy=data.copy()"
   ]
  },
  {
   "cell_type": "code",
   "execution_count": 72,
   "id": "a5138365",
   "metadata": {},
   "outputs": [
    {
     "data": {
      "text/plain": [
       "[23, 24, 32, 45, 12, 43, 67, 45, 32, 56, 32]"
      ]
     },
     "execution_count": 72,
     "metadata": {},
     "output_type": "execute_result"
    }
   ],
   "source": [
    "data_copy"
   ]
  },
  {
   "cell_type": "code",
   "execution_count": 73,
   "id": "a9760f5d",
   "metadata": {},
   "outputs": [
    {
     "data": {
      "text/plain": [
       "<Axes: ylabel='Count'>"
      ]
     },
     "execution_count": 73,
     "metadata": {},
     "output_type": "execute_result"
    },
    {
     "data": {
      "image/png": "[encoded data removed]",
      "text/plain": [
       "<Figure size 640x480 with 1 Axes>"
      ]
     },
     "metadata": {},
     "output_type": "display_data"
    }
   ],
   "source": [
    "sns.histplot(data_copy,kde=True)"
   ]
  },
  {
   "cell_type": "code",
   "execution_count": 74,
   "id": "bab278a4",
   "metadata": {},
   "outputs": [],
   "source": [
    "data_copy.sort()"
   ]
  },
  {
   "cell_type": "code",
   "execution_count": 75,
   "id": "184f9d17",
   "metadata": {},
   "outputs": [
    {
     "data": {
      "text/plain": [
       "[12, 23, 24, 32, 32, 32, 43, 45, 45, 56, 67]"
      ]
     },
     "execution_count": 75,
     "metadata": {},
     "output_type": "execute_result"
    }
   ],
   "source": [
    "data_copy"
   ]
  },
  {
   "cell_type": "code",
   "execution_count": 78,
   "id": "5c42c3ea",
   "metadata": {},
   "outputs": [],
   "source": [
    "data_copy.append(179)"
   ]
  },
  {
   "cell_type": "code",
   "execution_count": 79,
   "id": "3a7376cb",
   "metadata": {},
   "outputs": [],
   "source": [
    "data_copy.append(218)"
   ]
  },
  {
   "cell_type": "code",
   "execution_count": 80,
   "id": "32f955dc",
   "metadata": {},
   "outputs": [],
   "source": [
    "data_copy.append(290)"
   ]
  },
  {
   "cell_type": "code",
   "execution_count": 81,
   "id": "092de735",
   "metadata": {},
   "outputs": [
    {
     "data": {
      "text/plain": [
       "[12, 23, 24, 32, 32, 32, 43, 45, 45, 56, 67, 179, 218, 290]"
      ]
     },
     "execution_count": 81,
     "metadata": {},
     "output_type": "execute_result"
    }
   ],
   "source": [
    "data_copy"
   ]
  },
  {
   "cell_type": "code",
   "execution_count": 82,
   "id": "fce21582",
   "metadata": {},
   "outputs": [
    {
     "data": {
      "text/plain": [
       "<Axes: ylabel='Count'>"
      ]
     },
     "execution_count": 82,
     "metadata": {},
     "output_type": "execute_result"
    },
    {
     "data": {
      "image/png": "[encoded data removed]",
      "text/plain": [
       "<Figure size 640x480 with 1 Axes>"
      ]
     },
     "metadata": {},
     "output_type": "display_data"
    }
   ],
   "source": [
    "sns.histplot(data_copy,kde=True)"
   ]
  },
  {
   "cell_type": "markdown",
   "id": "cc4cd1ce",
   "metadata": {},
   "source": [
    "This is right skewed data"
   ]
  },
  {
   "cell_type": "code",
   "execution_count": 61,
   "id": "a2b195dc",
   "metadata": {},
   "outputs": [
    {
     "data": {
      "text/plain": [
       "[23, 24, 32, 45, 12, 43, 67, 45, 32, 56, 32]"
      ]
     },
     "execution_count": 61,
     "metadata": {},
     "output_type": "execute_result"
    }
   ],
   "source": [
    "data"
   ]
  },
  {
   "cell_type": "code",
   "execution_count": 64,
   "id": "bf755b81",
   "metadata": {},
   "outputs": [
    {
     "data": {
      "text/plain": [
       "[12, 23, 24, 32, 32, 32, 43, 45, 45, 56, 67, 179, 218, 290]"
      ]
     },
     "execution_count": 64,
     "metadata": {},
     "output_type": "execute_result"
    }
   ],
   "source": [
    "#this is a right skewed data\n",
    "data_copy"
   ]
  },
  {
   "cell_type": "code",
   "execution_count": 65,
   "id": "ad6b89d6",
   "metadata": {},
   "outputs": [],
   "source": [
    "#this is my left skewed data\n",
    "data_copy2=data.copy()"
   ]
  },
  {
   "cell_type": "code",
   "execution_count": 66,
   "id": "d3d2ec07",
   "metadata": {},
   "outputs": [
    {
     "data": {
      "text/plain": [
       "[23, 24, 32, 45, 12, 43, 67, 45, 32, 56, 32]"
      ]
     },
     "execution_count": 66,
     "metadata": {},
     "output_type": "execute_result"
    }
   ],
   "source": [
    "data_copy2"
   ]
  },
  {
   "cell_type": "code",
   "execution_count": 68,
   "id": "3af06b90",
   "metadata": {},
   "outputs": [],
   "source": [
    "data_copy2.insert(0,-10)"
   ]
  },
  {
   "cell_type": "code",
   "execution_count": 84,
   "id": "fb0e4b53",
   "metadata": {},
   "outputs": [],
   "source": [
    "data_copy2.insert(0,-70)"
   ]
  },
  {
   "cell_type": "code",
   "execution_count": 85,
   "id": "2c8eba3c",
   "metadata": {},
   "outputs": [
    {
     "data": {
      "text/plain": [
       "<Axes: ylabel='Count'>"
      ]
     },
     "execution_count": 85,
     "metadata": {},
     "output_type": "execute_result"
    },
    {
     "data": {
      "image/png": "[encoded data removed]",
      "text/plain": [
       "<Figure size 640x480 with 1 Axes>"
      ]
     },
     "metadata": {},
     "output_type": "display_data"
    }
   ],
   "source": [
    "sns.histplot(data_copy2,kde=True)"
   ]
  },
  {
   "cell_type": "markdown",
   "id": "2a312b64",
   "metadata": {},
   "source": [
    "This is a left skewed data"
   ]
  },
  {
   "cell_type": "code",
   "execution_count": 89,
   "id": "55c06118",
   "metadata": {},
   "outputs": [
    {
     "data": {
      "text/html": [
       "<div>\n",
       "<style scoped>\n",
       "    .dataframe tbody tr th:only-of-type {\n",
       "        vertical-align: middle;\n",
       "    }\n",
       "\n",
       "    .dataframe tbody tr th {\n",
       "        vertical-align: top;\n",
       "    }\n",
       "\n",
       "    .dataframe thead th {\n",
       "        text-align: right;\n",
       "    }\n",
       "</style>\n",
       "<table border=\"1\" class=\"dataframe\">\n",
       "  <thead>\n",
       "    <tr style=\"text-align: right;\">\n",
       "      <th></th>\n",
       "      <th>sepal_length</th>\n",
       "      <th>sepal_width</th>\n",
       "      <th>petal_length</th>\n",
       "      <th>petal_width</th>\n",
       "      <th>species</th>\n",
       "    </tr>\n",
       "  </thead>\n",
       "  <tbody>\n",
       "    <tr>\n",
       "      <th>0</th>\n",
       "      <td>5.1</td>\n",
       "      <td>3.5</td>\n",
       "      <td>1.4</td>\n",
       "      <td>0.2</td>\n",
       "      <td>setosa</td>\n",
       "    </tr>\n",
       "    <tr>\n",
       "      <th>1</th>\n",
       "      <td>4.9</td>\n",
       "      <td>3.0</td>\n",
       "      <td>1.4</td>\n",
       "      <td>0.2</td>\n",
       "      <td>setosa</td>\n",
       "    </tr>\n",
       "    <tr>\n",
       "      <th>2</th>\n",
       "      <td>4.7</td>\n",
       "      <td>3.2</td>\n",
       "      <td>1.3</td>\n",
       "      <td>0.2</td>\n",
       "      <td>setosa</td>\n",
       "    </tr>\n",
       "    <tr>\n",
       "      <th>3</th>\n",
       "      <td>4.6</td>\n",
       "      <td>3.1</td>\n",
       "      <td>1.5</td>\n",
       "      <td>0.2</td>\n",
       "      <td>setosa</td>\n",
       "    </tr>\n",
       "    <tr>\n",
       "      <th>4</th>\n",
       "      <td>5.0</td>\n",
       "      <td>3.6</td>\n",
       "      <td>1.4</td>\n",
       "      <td>0.2</td>\n",
       "      <td>setosa</td>\n",
       "    </tr>\n",
       "    <tr>\n",
       "      <th>...</th>\n",
       "      <td>...</td>\n",
       "      <td>...</td>\n",
       "      <td>...</td>\n",
       "      <td>...</td>\n",
       "      <td>...</td>\n",
       "    </tr>\n",
       "    <tr>\n",
       "      <th>145</th>\n",
       "      <td>6.7</td>\n",
       "      <td>3.0</td>\n",
       "      <td>5.2</td>\n",
       "      <td>2.3</td>\n",
       "      <td>virginica</td>\n",
       "    </tr>\n",
       "    <tr>\n",
       "      <th>146</th>\n",
       "      <td>6.3</td>\n",
       "      <td>2.5</td>\n",
       "      <td>5.0</td>\n",
       "      <td>1.9</td>\n",
       "      <td>virginica</td>\n",
       "    </tr>\n",
       "    <tr>\n",
       "      <th>147</th>\n",
       "      <td>6.5</td>\n",
       "      <td>3.0</td>\n",
       "      <td>5.2</td>\n",
       "      <td>2.0</td>\n",
       "      <td>virginica</td>\n",
       "    </tr>\n",
       "    <tr>\n",
       "      <th>148</th>\n",
       "      <td>6.2</td>\n",
       "      <td>3.4</td>\n",
       "      <td>5.4</td>\n",
       "      <td>2.3</td>\n",
       "      <td>virginica</td>\n",
       "    </tr>\n",
       "    <tr>\n",
       "      <th>149</th>\n",
       "      <td>5.9</td>\n",
       "      <td>3.0</td>\n",
       "      <td>5.1</td>\n",
       "      <td>1.8</td>\n",
       "      <td>virginica</td>\n",
       "    </tr>\n",
       "  </tbody>\n",
       "</table>\n",
       "<p>150 rows × 5 columns</p>\n",
       "</div>"
      ],
      "text/plain": [
       "     sepal_length  sepal_width  petal_length  petal_width    species\n",
       "0             5.1          3.5           1.4          0.2     setosa\n",
       "1             4.9          3.0           1.4          0.2     setosa\n",
       "2             4.7          3.2           1.3          0.2     setosa\n",
       "3             4.6          3.1           1.5          0.2     setosa\n",
       "4             5.0          3.6           1.4          0.2     setosa\n",
       "..            ...          ...           ...          ...        ...\n",
       "145           6.7          3.0           5.2          2.3  virginica\n",
       "146           6.3          2.5           5.0          1.9  virginica\n",
       "147           6.5          3.0           5.2          2.0  virginica\n",
       "148           6.2          3.4           5.4          2.3  virginica\n",
       "149           5.9          3.0           5.1          1.8  virginica\n",
       "\n",
       "[150 rows x 5 columns]"
      ]
     },
     "execution_count": 89,
     "metadata": {},
     "output_type": "execute_result"
    }
   ],
   "source": [
    "data2=pd.read_csv(\"iris.csv\")\n",
    "data2"
   ]
  },
  {
   "cell_type": "code",
   "execution_count": 90,
   "id": "10b1efe8",
   "metadata": {},
   "outputs": [
    {
     "data": {
      "text/html": [
       "<div>\n",
       "<style scoped>\n",
       "    .dataframe tbody tr th:only-of-type {\n",
       "        vertical-align: middle;\n",
       "    }\n",
       "\n",
       "    .dataframe tbody tr th {\n",
       "        vertical-align: top;\n",
       "    }\n",
       "\n",
       "    .dataframe thead th {\n",
       "        text-align: right;\n",
       "    }\n",
       "</style>\n",
       "<table border=\"1\" class=\"dataframe\">\n",
       "  <thead>\n",
       "    <tr style=\"text-align: right;\">\n",
       "      <th></th>\n",
       "      <th>sepal_length</th>\n",
       "      <th>sepal_width</th>\n",
       "      <th>petal_length</th>\n",
       "      <th>petal_width</th>\n",
       "      <th>species</th>\n",
       "    </tr>\n",
       "  </thead>\n",
       "  <tbody>\n",
       "    <tr>\n",
       "      <th>0</th>\n",
       "      <td>5.1</td>\n",
       "      <td>3.5</td>\n",
       "      <td>1.4</td>\n",
       "      <td>0.2</td>\n",
       "      <td>setosa</td>\n",
       "    </tr>\n",
       "    <tr>\n",
       "      <th>1</th>\n",
       "      <td>4.9</td>\n",
       "      <td>3.0</td>\n",
       "      <td>1.4</td>\n",
       "      <td>0.2</td>\n",
       "      <td>setosa</td>\n",
       "    </tr>\n",
       "    <tr>\n",
       "      <th>2</th>\n",
       "      <td>4.7</td>\n",
       "      <td>3.2</td>\n",
       "      <td>1.3</td>\n",
       "      <td>0.2</td>\n",
       "      <td>setosa</td>\n",
       "    </tr>\n",
       "    <tr>\n",
       "      <th>3</th>\n",
       "      <td>4.6</td>\n",
       "      <td>3.1</td>\n",
       "      <td>1.5</td>\n",
       "      <td>0.2</td>\n",
       "      <td>setosa</td>\n",
       "    </tr>\n",
       "    <tr>\n",
       "      <th>4</th>\n",
       "      <td>5.0</td>\n",
       "      <td>3.6</td>\n",
       "      <td>1.4</td>\n",
       "      <td>0.2</td>\n",
       "      <td>setosa</td>\n",
       "    </tr>\n",
       "  </tbody>\n",
       "</table>\n",
       "</div>"
      ],
      "text/plain": [
       "   sepal_length  sepal_width  petal_length  petal_width species\n",
       "0           5.1          3.5           1.4          0.2  setosa\n",
       "1           4.9          3.0           1.4          0.2  setosa\n",
       "2           4.7          3.2           1.3          0.2  setosa\n",
       "3           4.6          3.1           1.5          0.2  setosa\n",
       "4           5.0          3.6           1.4          0.2  setosa"
      ]
     },
     "execution_count": 90,
     "metadata": {},
     "output_type": "execute_result"
    }
   ],
   "source": [
    "data2.head()"
   ]
  },
  {
   "cell_type": "code",
   "execution_count": 91,
   "id": "12edae29",
   "metadata": {},
   "outputs": [
    {
     "data": {
      "text/plain": [
       "<Axes: xlabel='sepal_length', ylabel='Count'>"
      ]
     },
     "execution_count": 91,
     "metadata": {},
     "output_type": "execute_result"
    },
    {
     "data": {
      "image/png": "[encoded data removed]",
      "text/plain": [
       "<Figure size 640x480 with 1 Axes>"
      ]
     },
     "metadata": {},
     "output_type": "display_data"
    }
   ],
   "source": [
    "sns.histplot(data2[\"sepal_length\"],kde=True)"
   ]
  },
  {
   "cell_type": "code",
   "execution_count": 94,
   "id": "ea4fdd51",
   "metadata": {},
   "outputs": [
    {
     "data": {
      "text/plain": [
       "<Axes: xlabel='sepal_width', ylabel='Count'>"
      ]
     },
     "execution_count": 94,
     "metadata": {},
     "output_type": "execute_result"
    },
    {
     "data": {
      "image/png": "[encoded data removed]",
      "text/plain": [
       "<Figure size 640x480 with 1 Axes>"
      ]
     },
     "metadata": {},
     "output_type": "display_data"
    }
   ],
   "source": [
    "sns.histplot(data2[\"sepal_width\"],kde=True)"
   ]
  },
  {
   "cell_type": "code",
   "execution_count": 95,
   "id": "5229f44d",
   "metadata": {},
   "outputs": [
    {
     "data": {
      "text/plain": [
       "<Axes: xlabel='petal_length', ylabel='Count'>"
      ]
     },
     "execution_count": 95,
     "metadata": {},
     "output_type": "execute_result"
    },
    {
     "data": {
      "image/png": "[encoded data removed]",
      "text/plain": [
       "<Figure size 640x480 with 1 Axes>"
      ]
     },
     "metadata": {},
     "output_type": "display_data"
    }
   ],
   "source": [
    "sns.histplot(data2[\"petal_length\"],kde=True)"
   ]
  },
  {
   "cell_type": "code",
   "execution_count": 96,
   "id": "ecd464a6",
   "metadata": {},
   "outputs": [
    {
     "data": {
      "text/plain": [
       "<Axes: xlabel='petal_width', ylabel='Count'>"
      ]
     },
     "execution_count": 96,
     "metadata": {},
     "output_type": "execute_result"
    },
    {
     "data": {
      "image/png": "[encoded data removed]",
      "text/plain": [
       "<Figure size 640x480 with 1 Axes>"
      ]
     },
     "metadata": {},
     "output_type": "display_data"
    }
   ],
   "source": [
    "sns.histplot(data2[\"petal_width\"],kde=True)"
   ]
  },
  {
   "cell_type": "code",
   "execution_count": 101,
   "id": "73e05a05",
   "metadata": {},
   "outputs": [],
   "source": [
    "#mean=o.5,std=0.2\n",
    "normal_dist_data=np.random.normal(0.5,0.2,1000)"
   ]
  },
  {
   "cell_type": "code",
   "execution_count": 102,
   "id": "215c405d",
   "metadata": {},
   "outputs": [
    {
     "data": {
      "text/plain": [
       "array([ 0.45174263,  0.92858597,  0.35272153,  0.51227889,  0.48364658,\n",
       "        0.74093766,  0.64732802,  0.52239788,  0.44750759,  0.45058312,\n",
       "        0.41319074,  0.38681307,  0.46722147,  0.4224263 ,  0.08614469,\n",
       "        0.24086228,  0.83331479,  0.58902799,  0.77535255,  0.40887805,\n",
       "        0.3386498 ,  0.4010962 ,  0.28235519,  0.68806576,  0.56022661,\n",
       "        0.56883295,  0.25379004,  0.37372499,  0.57518737,  0.47512383,\n",
       "        0.55605986,  0.54721245,  0.12859972,  0.29410727,  0.15523197,\n",
       "        0.15675517,  0.95170242,  0.75417512,  0.45582474,  0.67617769,\n",
       "        0.45459275,  0.45920597,  0.31130299, -0.05750712,  0.32108791,\n",
       "        0.60177939,  0.4589691 ,  0.58662425,  0.35572527,  0.60938083,\n",
       "        0.32603256,  0.20623042,  0.19863437,  0.57056175,  0.33248014,\n",
       "        0.52005441,  0.26196465,  0.33997416,  0.47410452,  0.43458402,\n",
       "        0.32375476,  0.79268148,  0.87857218,  0.42648033,  0.62865751,\n",
       "        0.63892457,  0.64580398,  0.7710665 ,  0.35754905,  0.31118458,\n",
       "        0.46132656,  0.68743801,  0.52663127,  0.62336395,  0.52864047,\n",
       "        0.35235038,  0.3172521 ,  0.49856653,  0.72361878,  0.91399718,\n",
       "        0.41342762,  0.51012754,  0.49117447,  0.46665413,  0.71642582,\n",
       "        0.1459951 ,  0.50684581,  0.49907162,  0.52140313,  0.53884419,\n",
       "       -0.07824412,  0.52178207,  0.33608866,  0.19655447,  0.71268934,\n",
       "        0.29155873,  0.79485927,  0.52767827,  0.65072956,  0.55018281,\n",
       "        0.4829664 ,  0.78401424,  0.33013366,  0.45330275,  0.16680457,\n",
       "        0.72600462,  0.59084775,  0.67913077,  0.19661002,  0.26742294,\n",
       "        0.19561644,  0.46213001,  0.3542273 , -0.02583661,  0.42293236,\n",
       "        0.51410095,  0.4197473 ,  0.59501915,  0.34426814,  0.7911368 ,\n",
       "        0.4881084 ,  0.57429338,  0.61553893,  0.83538985,  0.39927266,\n",
       "        0.41481294,  0.54961395,  0.65323364,  0.22922172,  0.74130841,\n",
       "        0.57129602,  0.35299303,  0.44698687,  0.60681357,  0.66870069,\n",
       "        0.50571076,  0.48704465,  0.2985793 ,  0.39380071,  0.56178934,\n",
       "        0.47814632,  0.43005326,  0.36525664,  0.91543218,  0.40477197,\n",
       "        0.70011979,  0.63742118,  0.40083525,  0.84075811,  0.29768538,\n",
       "        0.34838076,  0.54469958,  0.23446063,  0.85109043,  0.43224051,\n",
       "        0.49964934,  0.54057837,  0.58592339,  0.17077936,  0.70641227,\n",
       "        0.99037323,  0.51043076,  0.43336252,  0.44824888,  0.44498281,\n",
       "        0.72286684,  0.67684015,  0.44189749,  0.37578251,  0.47233242,\n",
       "        0.4883832 ,  0.49720379,  0.59626977,  0.36355231,  0.79641511,\n",
       "        0.47805723,  0.21649459,  0.64774482,  0.21562506,  0.28765319,\n",
       "        0.70980442,  0.71147798,  0.56321883,  0.73853818,  0.06705849,\n",
       "        0.06335862,  0.34703755,  0.441085  ,  0.44606346,  0.17312092,\n",
       "        0.06847954,  0.68865576,  0.4355576 ,  0.49192952,  0.55709591,\n",
       "        0.39894086,  0.87997981,  0.59595207,  0.26715427,  0.50070274,\n",
       "        0.60797784,  0.44344455,  0.37152493,  0.61398305,  0.20365037,\n",
       "        0.34522906,  0.75162493,  0.37060286,  0.51730415,  0.71502689,\n",
       "        0.49917021,  0.41099149,  0.69230821,  0.69037496,  0.52661842,\n",
       "        0.4130758 ,  0.72363252,  0.31892634,  0.45562027,  0.78772433,\n",
       "        0.18691519,  0.85892907,  0.57892486,  0.5496098 ,  0.31519307,\n",
       "        0.40809246,  0.534767  ,  0.72063969,  0.57370099,  0.66677032,\n",
       "        0.85463738,  0.54329155,  0.20763651,  0.18468441,  0.9537486 ,\n",
       "        0.43308665,  0.29772061,  0.52023015,  0.44998338,  0.40723138,\n",
       "        0.44156207,  0.61276304,  0.29200482,  0.35697083,  0.36135772,\n",
       "        0.28720326,  0.44760187,  0.30376895,  0.48986333,  0.32741162,\n",
       "        0.50931909,  0.39071199,  0.30003887,  0.48569372,  0.46169734,\n",
       "        0.52055706,  0.59644635,  0.42067064, -0.11612321,  0.42427003,\n",
       "        0.73842148,  0.56303199,  0.35489701,  0.45609347,  0.24707567,\n",
       "        0.64472209,  0.18960807,  0.53699594,  0.45556855,  0.71718302,\n",
       "        0.28932477,  0.70136524,  0.63058005,  0.29840363,  0.45759864,\n",
       "        0.79493636,  0.60891218,  0.58120744,  0.35014366,  0.66421836,\n",
       "        0.5621456 ,  0.72531719,  0.58090938,  0.8209854 ,  0.60034151,\n",
       "        0.51377133,  0.38083631,  0.60144142,  0.47726183,  0.10748108,\n",
       "        0.6446456 ,  0.45466757,  0.74694693,  0.54411499,  0.71548869,\n",
       "        0.18740948,  0.23191884,  0.6741411 ,  0.62093295,  0.76895297,\n",
       "        0.43369792,  0.5899489 ,  0.82293427,  0.56481338,  0.32709779,\n",
       "        0.9986021 ,  0.54115614,  0.60445556,  0.54591962,  0.549829  ,\n",
       "        0.47238349,  0.51023111,  0.2800962 ,  0.89733168,  0.46067586,\n",
       "        0.28367532,  0.10956671,  0.01686989,  0.68427607,  0.41003398,\n",
       "        0.15536279,  0.41153253,  0.63401336,  0.44605494,  0.39015347,\n",
       "        0.46256985,  0.5629653 ,  0.58752504,  0.75054148,  0.52325189,\n",
       "        0.5374908 ,  0.31823815,  0.5045103 ,  0.55363316,  0.60298418,\n",
       "        0.30414992,  0.83584354,  0.41923213,  0.33047767,  0.13022987,\n",
       "        0.33982181,  0.59429324,  0.51978108,  0.60609021,  0.59698482,\n",
       "        0.81770251,  0.40651485, -0.10247649,  0.59508791,  0.69595685,\n",
       "        0.44441974,  0.65471749,  0.24409152,  0.45422771,  0.57006869,\n",
       "        0.56839122,  0.50368826,  0.44648753,  0.91791637,  0.17901561,\n",
       "        0.51218344,  0.49242496,  0.41661462,  0.35132016,  0.42462668,\n",
       "        0.50525329,  0.55138283,  0.31423519,  0.49211043,  0.50841454,\n",
       "        0.48833685,  0.38417696,  0.5200843 ,  0.16503967,  0.57464511,\n",
       "        0.66924821,  0.32457707,  0.23028152,  0.42725847,  0.36137563,\n",
       "        0.68240835,  0.71562706,  0.71323186,  0.22464306,  0.70181354,\n",
       "        0.50534302,  0.58246082,  0.11395039,  0.39809491,  0.64627521,\n",
       "        0.1375883 , -0.03118387,  0.64228524,  0.07022045,  0.60835561,\n",
       "        0.62231894,  0.53348874,  0.55781917,  0.29428132,  0.4706156 ,\n",
       "        0.75438405,  0.63446929,  0.65373887,  0.43119818,  0.77169677,\n",
       "        0.35530817,  0.52754045,  0.49567128,  0.9054551 ,  0.41510393,\n",
       "        0.23519742,  0.38751268,  0.23552839,  0.41207916,  0.40719863,\n",
       "        0.48984279,  0.81773311,  0.43022815,  0.75718535,  0.72518973,\n",
       "        0.4373874 ,  0.47975971,  0.56715609,  0.51154473,  0.4706451 ,\n",
       "        0.18771558,  0.26850458,  0.42703337,  0.54297878,  0.54645908,\n",
       "        0.43936621,  0.31064928,  0.49802183,  0.46660039,  0.41209564,\n",
       "        0.87531026,  0.4324194 ,  0.31262553,  0.55860761,  0.7948028 ,\n",
       "        0.39809394,  0.32991087,  0.79724287,  0.47008013,  0.20013267,\n",
       "        0.4608744 ,  0.29116272,  0.5192314 ,  0.64042148,  0.87441887,\n",
       "        0.59905582,  0.30681531,  0.27021629,  0.34538942,  0.50242647,\n",
       "        0.91120881,  0.42621586,  0.47659293,  0.21466527,  0.42233457,\n",
       "        0.88943026,  0.31002317,  0.3749722 ,  0.35014172,  0.6826203 ,\n",
       "        0.57232075,  0.15336833,  0.6379435 ,  0.73457186,  0.52849264,\n",
       "        0.38939167,  0.01577095,  0.75333153,  0.60970637,  0.18502698,\n",
       "        0.36735975,  0.63157223,  0.27244938,  0.50281804,  0.380059  ,\n",
       "        0.75026769,  0.30206481,  0.55871451,  0.67244847,  0.65209637,\n",
       "        0.72264373,  0.85784199,  0.47022564,  0.61988037,  0.57217   ,\n",
       "        0.51271621,  0.47550043,  0.35978599,  0.53501193,  0.35754892,\n",
       "        0.32119676,  0.5819933 ,  0.49365689,  0.46315024,  0.27771892,\n",
       "        0.37156648,  0.41872794,  0.38874429,  0.70322103,  0.84441773,\n",
       "        0.32688258,  0.76001696,  0.46536194,  0.67584377,  0.97478414,\n",
       "        0.41146691,  0.56481339,  0.46745258,  0.36751553,  0.54612202,\n",
       "        0.54007798,  0.41928426,  0.65232212,  0.48175731,  0.52610836,\n",
       "        0.34414436,  0.31107123,  0.67524254,  0.46471229,  0.1257094 ,\n",
       "        0.19888891,  0.58044601,  0.55977039,  0.30609312,  0.24664815,\n",
       "        0.74571131,  0.58310788,  0.25022848,  0.49073622,  0.94051124,\n",
       "        0.73127223,  0.29784212,  0.37844143,  0.67114818,  0.31181534,\n",
       "        0.53495047,  0.53113079,  0.46702617,  0.4725728 ,  0.850972  ,\n",
       "        0.32138884,  0.42015522,  0.63318209,  0.48618058,  0.03315787,\n",
       "        0.43281601,  0.5097755 ,  0.74750855,  0.64939049,  0.39313829,\n",
       "        0.20481051,  0.31150853,  0.45445717,  0.32747227,  0.42827495,\n",
       "        0.25344377,  0.22484347,  0.58336411,  0.63419444,  0.85300521,\n",
       "        0.56711175,  0.58912227,  0.52630113,  0.41721206,  0.71949843,\n",
       "        0.32252961,  0.73826549,  0.30208018,  0.46052672,  0.37865498,\n",
       "        0.45530868,  0.58857532,  0.50185909,  0.54448109,  0.88768509,\n",
       "        0.31136318,  0.67957896,  0.55080211,  0.63528896,  0.28331976,\n",
       "        0.48098116,  0.44136835,  0.76683063,  0.23859028,  0.83906484,\n",
       "        0.58385736,  0.46472426,  0.6447453 ,  0.65354509,  0.51306708,\n",
       "        0.23823537,  0.64205054,  0.47954796,  0.56605724,  0.00866573,\n",
       "        0.64319221,  0.53237844,  0.66319875,  0.65185565,  0.35079374,\n",
       "        0.51286055,  0.21567492,  0.56655238,  0.60912909,  0.78948784,\n",
       "        0.26688447,  0.48677573,  0.29556845,  0.46318545,  0.61445771,\n",
       "        0.17281429,  0.51712727,  0.45323665,  0.26172465,  0.40776494,\n",
       "        0.81528318,  0.64241171,  0.7515212 ,  0.553096  ,  0.41540195,\n",
       "        0.47783774,  0.55506289,  0.42248999,  0.5306479 ,  0.70030364,\n",
       "        0.04231357,  0.27180287,  0.69966658,  0.28763052,  0.74430558,\n",
       "        0.49622288,  0.71382962,  0.27405104,  0.49702268,  0.93540661,\n",
       "        0.21254148,  0.44451024,  0.23751198,  0.28253984,  0.47960864,\n",
       "        0.4387274 ,  0.52170136,  0.82434815,  0.74134685,  0.5217418 ,\n",
       "        0.84812561, -0.00563923,  0.56070673,  0.42277585,  0.40873655,\n",
       "        0.5312893 ,  0.65555205,  0.3861084 ,  0.69882626,  0.29597566,\n",
       "        0.44186733,  0.44717313,  0.25258091,  0.40635509,  0.59639064,\n",
       "        0.51058652,  0.60965232,  0.55007163,  0.73993684,  0.40235804,\n",
       "        0.3265296 ,  0.38952578,  0.66685988,  0.29456846,  0.42480012,\n",
       "        0.42315283,  0.21491861,  0.74272722, -0.0177987 ,  0.49839351,\n",
       "        0.1222356 ,  0.58789548,  0.54186674,  0.35872958,  0.25081471,\n",
       "        0.66190971,  0.11995011,  0.3112071 ,  0.6853064 ,  0.34742576,\n",
       "        0.53385354,  0.64150964,  0.38511206,  0.54344076,  0.43606357,\n",
       "        0.63994403,  0.51846786,  0.46706041,  0.24943301,  0.22648624,\n",
       "        0.78487301,  0.74617301,  0.76070558,  0.60455291,  0.78632824,\n",
       "        0.49264995,  0.79377884,  0.36102957,  0.42627805,  0.76435073,\n",
       "        0.57974388,  0.98113446,  0.22642234,  0.72150241,  0.34731748,\n",
       "        0.48677137,  0.63662164,  0.46215536,  0.22840702,  0.38322089,\n",
       "        0.80259518,  0.67140385,  0.31170901,  0.63940956,  0.66268206,\n",
       "        0.52886921,  0.58453131,  0.18125565,  0.21739721,  0.34326367,\n",
       "        0.50329479,  0.52826815,  0.75164868,  0.17612304,  0.75520749,\n",
       "        0.88888241,  0.43449816,  0.66225271,  0.42404791,  0.38337229,\n",
       "        0.34928783,  0.43010781,  0.82510822,  0.66523366,  0.07692059,\n",
       "        0.56469471,  0.26113254,  0.33651781,  0.14609129,  0.57183571,\n",
       "        0.36939247,  0.58606203,  0.2595339 ,  0.50383165,  0.26252608,\n",
       "        0.72123636,  0.69350834,  0.35328471,  0.7416492 ,  0.23803929,\n",
       "        0.40323783,  0.49681651,  0.35411006,  0.33093355,  0.33329507,\n",
       "        0.41055388,  0.34698294,  0.46831743,  0.59764033,  0.09388853,\n",
       "        0.45217887,  0.36053152,  0.58736502,  0.55700849,  0.17608513,\n",
       "        0.4649314 ,  0.39214639,  0.48478043,  0.37632493,  0.53597504,\n",
       "        0.64248605,  0.51909192,  0.48671657,  0.5934751 ,  0.4164967 ,\n",
       "        0.29453704,  0.73842021,  0.28202943,  0.49394322,  0.61350741,\n",
       "        0.48437679,  0.29924526,  0.44590201,  0.52474381,  1.01325112,\n",
       "        0.81206497,  0.54166121,  0.17357068,  0.45200177,  0.15503664,\n",
       "        0.39594129,  0.31780309,  0.4247518 ,  0.35201341,  0.65450627,\n",
       "        0.32619907,  0.28532218,  0.2179233 ,  0.44068375,  0.63456522,\n",
       "        0.50840554,  0.4720304 ,  0.18807833,  0.37615779,  0.54321995,\n",
       "        0.3150766 ,  0.53837213,  0.81412734,  0.6456006 ,  0.40535913,\n",
       "        0.64286168,  0.46840804,  0.89279371,  0.32628509,  0.98664391,\n",
       "        0.22114175,  0.57265052,  0.37871865,  0.60103838,  0.56398589,\n",
       "        0.74947768,  0.50189585,  0.79116451,  0.54145916,  0.31408527,\n",
       "        0.54407511,  0.50103687,  0.45475912,  0.70262365,  0.61177122,\n",
       "        0.50027374,  0.75751725,  0.24073507,  0.7313768 ,  0.67030411,\n",
       "        0.48814845,  0.82735019,  0.47036757,  0.40931952, -0.06421893,\n",
       "        0.48299751,  0.29871234,  0.7727303 ,  0.56313496,  0.73943832,\n",
       "        0.44137002,  0.18091628,  0.6007175 ,  0.49835232,  0.81251526,\n",
       "        0.53797021,  0.82088062,  0.52794592,  0.47687973,  0.41626789,\n",
       "        0.49077924,  0.60009584,  0.44248606,  0.74442863,  0.84366185,\n",
       "        0.58916224,  0.12000664,  0.38920811,  0.39576968,  0.45188276,\n",
       "        0.31223261,  0.4183335 ,  0.43716319,  0.47495746,  0.8807019 ,\n",
       "        0.70490104,  0.70007886,  0.35481243,  0.53204563,  0.4164927 ,\n",
       "        0.51377622,  0.32968597,  0.83189322,  0.61006856,  0.6519149 ,\n",
       "        0.24653873,  0.43139092,  0.43817354,  0.29869009,  0.27097589,\n",
       "       -0.0299258 ,  0.20483935,  0.33300436,  0.44329003,  0.77544722,\n",
       "        0.59035253,  0.44163741,  0.75458421,  0.57118171,  0.43311254,\n",
       "        0.30460551,  0.29241251,  0.39557112,  0.42846235,  0.18205303,\n",
       "        0.36921687,  0.55323923,  0.50100445,  0.69543122,  0.40420517,\n",
       "        0.59049268,  0.53205166,  0.78543519,  0.39247016,  0.65065604,\n",
       "        0.2428044 ,  0.58729591,  0.76611152,  0.18105462,  0.75504084,\n",
       "        0.69998563,  0.10663626,  0.79032676,  0.35681127,  0.70106545,\n",
       "        0.27117123,  0.59758935,  0.6516785 ,  0.5981554 ,  0.70494222,\n",
       "        0.66572068,  0.53246937,  0.16632777,  0.35579168,  0.18194587,\n",
       "        0.66210124,  0.56636749,  0.37075652,  0.26784515,  0.47644635,\n",
       "        0.6072569 ,  0.26434386,  0.38278885,  0.54250131,  0.44870467,\n",
       "        0.39141412,  0.3466644 ,  0.37627682,  0.42593246,  0.22188934,\n",
       "        0.65952   ,  0.6403353 ,  0.0355092 ,  0.54889964,  0.56785783,\n",
       "        0.36403417,  0.8159257 ,  0.88393137,  0.50670831,  0.66831826,\n",
       "        0.36317856,  0.72816874,  0.52024235,  0.68729161,  0.80695272,\n",
       "        0.87554973,  0.68828058,  0.33779671,  0.5319146 ,  0.54481055,\n",
       "        0.58681765,  0.38660151,  0.32947424,  0.39171332,  0.62300144,\n",
       "        0.47449324,  0.41272572,  0.70575369,  0.48518481,  0.47151204,\n",
       "        0.51726026,  0.65703725,  0.8009416 ,  0.49306674,  0.6515166 ,\n",
       "        0.59853862,  0.54857136,  0.20433965,  0.4691333 ,  0.45188703,\n",
       "        0.42524632,  0.57839799,  0.33033534,  0.4276527 ,  0.22808987])"
      ]
     },
     "execution_count": 102,
     "metadata": {},
     "output_type": "execute_result"
    }
   ],
   "source": [
    "normal_dist_data"
   ]
  },
  {
   "cell_type": "code",
   "execution_count": 103,
   "id": "5b9424d3",
   "metadata": {},
   "outputs": [
    {
     "data": {
      "text/plain": [
       "<Axes: ylabel='Count'>"
      ]
     },
     "execution_count": 103,
     "metadata": {},
     "output_type": "execute_result"
    },
    {
     "data": {
      "image/png": "[encoded data removed]",
      "text/plain": [
       "<Figure size 640x480 with 1 Axes>"
      ]
     },
     "metadata": {},
     "output_type": "display_data"
    }
   ],
   "source": [
    "sns.histplot(normal_dist_data,kde=True)"
   ]
  },
  {
   "cell_type": "code",
   "execution_count": 116,
   "id": "4719632c",
   "metadata": {},
   "outputs": [],
   "source": [
    "log_normal_data=np.random.lognormal(3.0,1.0,1000)"
   ]
  },
  {
   "cell_type": "code",
   "execution_count": 117,
   "id": "2b9c27a3",
   "metadata": {},
   "outputs": [
    {
     "data": {
      "text/plain": [
       "array([ 29.47009253,  18.10984572, 232.68225843,  18.38515262,\n",
       "         5.8323254 ,  47.60075894,  20.41547942,  89.68017548,\n",
       "        31.60330081,  12.95009264,  15.18667955,  48.87285232,\n",
       "        17.21523046,  12.94602012,  69.92122581,  41.51035964,\n",
       "         8.6352529 ,  21.62228621,  42.41712458,  25.53286372,\n",
       "        13.81404262,  43.97532015,  43.05839131,  30.69127447,\n",
       "        96.54289466,  37.35783677,   7.23363157,  19.99468056,\n",
       "        89.64936874,  36.32178991, 117.43242244,   4.82019838,\n",
       "       123.25084657,   3.3495041 ,  25.94687459,  26.19663169,\n",
       "        17.07570919,   3.40248623,   4.86260535,  12.57963935,\n",
       "        80.66298859,  37.66265667,   3.7313384 ,  35.26196419,\n",
       "        48.45632326,  15.09769172,  46.20345175,  21.07347242,\n",
       "        15.99867661,  18.36723825,  75.88697044,  13.6702631 ,\n",
       "        30.06750302,   4.50116964,  29.27346402,  25.2200052 ,\n",
       "        17.1120684 ,  17.74580998,  37.06120375,  51.89417053,\n",
       "        29.28619999,  56.85574632,  13.21533586,   8.66467784,\n",
       "        11.44346858,  13.3408565 ,  53.87301586,   9.99722977,\n",
       "        20.88979332,  19.49289394,  54.37796161,  60.7224384 ,\n",
       "        44.42806768,  66.72391976,  14.86018514,  14.11311778,\n",
       "        51.0697949 , 111.13561099,   7.93215893,  60.63215857,\n",
       "        16.13862736,  20.24352608, 177.51142437,  10.50578311,\n",
       "         9.68538765,  13.06743375,  18.42082434,  53.81035953,\n",
       "         3.55968207,  17.37133466,  58.93887885,  42.74199183,\n",
       "        20.63232607,   6.4388408 ,   9.41138131,  42.80594854,\n",
       "        92.22235602,  46.3544954 ,   6.33617571,  15.40305286,\n",
       "        48.50389218,  10.06144581,   2.40996565,  44.51484568,\n",
       "        46.11742744,  70.79136092,  13.69211776,  35.5851579 ,\n",
       "         9.72696974,  35.45284418, 195.17282131,   4.36966405,\n",
       "        15.71232332,  13.6509356 ,  63.17100873,   8.71821789,\n",
       "         5.34952167,  93.372074  ,   5.90045365,  96.93185167,\n",
       "         4.96027349,   7.00009173,  27.62044013,  16.84541592,\n",
       "        48.91220382,  13.97820426,  11.54229707,  14.17709458,\n",
       "         8.71227204,  15.3528715 ,  12.43547695, 123.56796412,\n",
       "         6.2865584 ,  14.98926978,   6.85830119,  10.39574432,\n",
       "         7.53845113,  14.68478053,  82.98378721,  22.12226362,\n",
       "         6.88303319,  27.59158189,  56.51515245,  98.97628066,\n",
       "        12.16427532,   6.66447109,  29.87698356,  24.70172413,\n",
       "        14.37154366,  25.13491383,  27.6684678 ,  20.48627275,\n",
       "        20.62159253,  28.30789475,   3.46775546,  21.74472239,\n",
       "         6.91383849,  12.55459767,  38.56901994,  23.78015238,\n",
       "         6.22430773, 346.99785543,   5.50126476,   0.94634549,\n",
       "        22.18162726,  50.07895172,  24.38791545,  38.70899955,\n",
       "        12.62458977, 129.28561421,  18.57311993,  17.02520527,\n",
       "         7.37445158,  13.03796569,  14.92592163,  14.35234398,\n",
       "        27.58161142,  40.18892752,  15.06356703,  15.12519769,\n",
       "       113.27140897,   5.5303182 ,  31.29549125,  33.70938349,\n",
       "         9.48638867,  44.28302209,  33.46367482,   8.83098253,\n",
       "        30.58792981,   4.30033428,  17.69705607,  33.23808898,\n",
       "        21.48348337,   2.32607909,   3.01961392,   2.35845417,\n",
       "        31.48869281,   7.77291301,   9.62926071,   6.99788157,\n",
       "         9.46547323,  17.95938759,   4.53619992,  31.12926391,\n",
       "        41.01830404,  30.52533772, 144.09375453,  25.17264093,\n",
       "        77.73888055,  14.29186541,  66.40936382,  12.29608629,\n",
       "        41.03323757,  52.31426259,  61.5149268 ,  28.04194088,\n",
       "         3.39721703, 149.51529891,   2.70093653,  50.21630747,\n",
       "       346.39854194,  28.50393669,  53.78660138,   2.58603965,\n",
       "         5.57817221, 161.66532049,  18.88229841,  19.72686547,\n",
       "        17.12718438,  19.84603109, 154.44016241,   9.56926435,\n",
       "         6.69361562,  10.87207158,  27.92661386,  30.02014107,\n",
       "        10.03778609,  15.52581247,  15.45190251,  46.66791154,\n",
       "        42.44244021, 112.17745578,  39.69235055, 100.11887164,\n",
       "        60.92450528,  10.45203915,  47.38424892,  36.32956848,\n",
       "        49.49900161,  18.20238955,  10.50291784,  10.98720313,\n",
       "        20.23410154,   9.24203345,  31.17096139,  64.01677979,\n",
       "        51.16180207,  96.66041172,  31.71153611,  12.18068805,\n",
       "         9.80852243,  21.13045493,  23.93636592,  25.34987291,\n",
       "        14.53834033,   4.87565669,  29.7051175 ,   9.50466332,\n",
       "        28.39736893,  40.4619697 ,  46.1017447 ,   5.41888672,\n",
       "        30.43324108,  11.57726611,  82.36174866,   3.33560496,\n",
       "        14.0956355 ,  17.61265131,  12.97114977,   8.5874874 ,\n",
       "        39.59586069,  35.46399712,  16.86202287,   3.95834298,\n",
       "         3.01908722,  43.72263144, 128.13284808,  22.13702897,\n",
       "        20.32593767,   7.03414299,   2.67069929,  44.47171849,\n",
       "        17.94307742,  52.98324518,   1.62322815,  23.31527972,\n",
       "         9.66837578,  27.09807733,  73.33036739,  12.25017413,\n",
       "        39.67647462,  67.54005052,  10.33663076,  25.04924155,\n",
       "        60.82416921,  41.16711445,  15.15145029,   9.80640191,\n",
       "         7.6216293 ,  19.39592283,  22.81613868,  14.8824037 ,\n",
       "        33.36333617,  34.47072326,   3.64473843,   4.346711  ,\n",
       "        18.90729608,  81.16693394,  49.41618776,  33.4093681 ,\n",
       "         3.55350441,  30.62496758,  27.00505801,  12.66519167,\n",
       "         4.063207  ,   2.35381269,   4.9271045 ,  45.50254689,\n",
       "        13.2406599 ,  55.41938968,  10.2216304 ,  89.29414602,\n",
       "         2.11443153,  32.59677861,  11.2680756 ,  37.21800086,\n",
       "        14.57057377,   7.01641147,  15.31659195,   6.85184578,\n",
       "        28.12493227,  83.99944156,  39.73935407,  43.6558734 ,\n",
       "         3.11637377,  10.01609962,  48.1000216 , 240.58160886,\n",
       "        21.46558159,  25.37678305,  21.59802651,  45.39511754,\n",
       "        32.11372298,  34.63096931,  97.79602822,  12.79743072,\n",
       "         6.25249632,  10.77191715,  43.41512739,  25.54459959,\n",
       "        23.23058179,  10.34014717,  13.69891946,   6.16047923,\n",
       "        14.49535602,  22.37397225,   9.99739146,   7.50022632,\n",
       "        52.77836359,  58.7387122 ,  22.74968273,  16.74805999,\n",
       "        21.58684645,  52.00305065,  15.16319265,  62.89200959,\n",
       "        93.6652258 ,  50.05688153,  24.08362324,  14.95761163,\n",
       "         8.84153306,   9.3913041 ,  11.78379217,   8.89222015,\n",
       "        81.14270891,   7.86487127,  14.50701795,  18.35341854,\n",
       "        17.05188808,  70.02417697,  24.86699086, 269.71310093,\n",
       "         9.11299817,  16.56990608,  13.55805778,  60.19439503,\n",
       "        48.71461567,  29.77879232,  19.2477029 ,  17.82375256,\n",
       "         3.17533647, 292.25746   ,  29.91768188,  18.69655296,\n",
       "         9.48762478,   5.30813277,  22.64753214,   4.23145527,\n",
       "        26.29473529,   6.30692604,  10.76134719,   5.37410078,\n",
       "         7.42148266,  24.41600518,   4.37015219,  36.87360233,\n",
       "        27.79661347,  27.10727309,  59.41072664,  55.47602319,\n",
       "        38.81716185,  14.73587281,  62.57519607,   7.14164911,\n",
       "        26.10182242,  16.40756422,  33.869304  ,   5.83054444,\n",
       "         7.31284877,  26.56585567,   6.35382757,  11.21197414,\n",
       "        12.13775394,  30.42385963,  25.96216751,  22.35788481,\n",
       "        55.28685552,   8.30283818,  56.44822252,  34.50628478,\n",
       "        42.27922192,  55.43973655, 183.44426182,  41.58073184,\n",
       "        15.58413396,  75.69985208,   3.94112051,   2.80392353,\n",
       "        30.67729795,  17.81836301,  24.05522269,  26.14165955,\n",
       "        64.00586347,  11.46134782,  13.98956044,  65.40906438,\n",
       "         5.68394209,  84.87685805,  15.99723837,  39.15589996,\n",
       "        54.10517369,  42.92635859,   8.80996709,  62.4718766 ,\n",
       "         8.22414098,  31.69784155,  28.30668362,   7.58251747,\n",
       "        15.89546077,  29.54826334,  12.00849928,   8.72633631,\n",
       "         7.16821356,  19.70936163,   5.19781583,  75.32922148,\n",
       "       160.11753595,   8.40946827,  60.46028367,   7.22513285,\n",
       "        74.81674338,  22.79567777,  11.86373376,   5.23878652,\n",
       "         3.21794054,  15.28723914,   5.49654197,  10.16794486,\n",
       "        79.50969313,  13.64593804,   3.97254753,  10.28211967,\n",
       "         6.11402679,   6.71530995,  11.11280424,  19.77499051,\n",
       "        39.84859196,  58.00084642,  26.10001803,  97.79537969,\n",
       "        33.09564208, 144.02677352,   8.49872239,  15.44425902,\n",
       "        30.36549085,   5.83512958,  21.4586035 ,  40.43567732,\n",
       "        26.62555617,  58.34150202,  49.91496158,  12.01226229,\n",
       "        37.41742159,   8.21366042,  22.45302748,  20.01744995,\n",
       "        87.1670031 ,   4.23493325,  19.43685225,   7.6099429 ,\n",
       "        91.55325903,  28.41219767,  19.25743951,  24.44212834,\n",
       "        32.1936768 ,   9.9483683 ,  68.81335846,  18.42301857,\n",
       "        25.14004827,  31.61036055,  25.75083699,   9.96239417,\n",
       "        18.79005924,  16.05832541,   5.81207969,   8.89379251,\n",
       "        13.75398383,  55.34055468,  90.84425179,  83.20956994,\n",
       "        38.51419059,  16.1548913 ,  48.52817084,  94.22508426,\n",
       "        21.8357678 ,   1.82865785,  38.23404288,  29.85425172,\n",
       "        32.000665  ,   6.05475092,  12.74913843, 137.48344606,\n",
       "        17.70854185, 139.44600135,  19.67876758,  11.81566573,\n",
       "        51.52829213,   3.74884866,  34.27341503,   6.79071607,\n",
       "        13.3573869 ,  76.1927688 ,  30.52018445,   7.71115331,\n",
       "        14.08399718,  52.5619891 ,  43.36499822,  14.17121342,\n",
       "         7.15884651,  12.91318866,   3.14645552,   4.25476901,\n",
       "        15.07485307,   2.27307073,  38.76809794,   1.2073592 ,\n",
       "        20.11753737,  75.51313383,  49.18605579,  25.71575256,\n",
       "        71.09585111,   3.43801573,  28.07587465,  23.93885757,\n",
       "        75.23982507,  23.19059831,  16.24253462,  17.91017607,\n",
       "         4.45828176,  29.30735319,  24.53412991,  82.63345449,\n",
       "        21.11844882,   7.01763544,  17.53868153, 121.26860813,\n",
       "        87.36858429,  62.53419477,  43.68415313,   5.02331773,\n",
       "         7.96295481,   9.42315863,  33.62063511, 110.85056448,\n",
       "        63.82878916,  20.23559039,   9.4864419 ,  13.70659278,\n",
       "        20.85084543,  12.14029445,  20.23243632,  29.28577478,\n",
       "        30.43340352,  49.21445522,  77.88335766,   6.25488778,\n",
       "         8.27891742,  13.5993583 ,   2.76662034,  64.2308795 ,\n",
       "         3.09195684,   2.9513895 ,   4.59064407,  12.66415444,\n",
       "        20.7849991 ,  39.92700853,   6.37811434,  21.86678822,\n",
       "        23.60315829,  69.49789411,  60.90144716,  42.08151871,\n",
       "        53.57820187,  26.65044854,   9.0746346 ,  19.98895277,\n",
       "        12.76067999,  19.72719549, 158.82341921,  36.38236455,\n",
       "        10.20135185,   7.37798692,  63.77307281,  31.11617973,\n",
       "         6.85331083,  64.72368936,  35.96393138,  13.98334299,\n",
       "         6.43329182,  19.26313353,   9.87979076,  12.51694589,\n",
       "         8.84863711,   6.53747662,  17.56332358,  32.37075128,\n",
       "        10.07896326,  23.97740762,  63.32382417,  28.33934984,\n",
       "        25.75944424,  34.45965784, 130.83435013,  33.70757295,\n",
       "        61.13770934,  10.83982235,  15.69288903,  13.4478178 ,\n",
       "        31.77905439,   2.76365569,  13.27898014,   3.97470575,\n",
       "        35.73760516,  10.99639076,  20.89386439,   2.37294816,\n",
       "        33.65474675,  24.9275255 ,  10.39443776,  17.07368438,\n",
       "        12.47487934,   5.76399075,  50.90062916, 110.20081483,\n",
       "         9.33711373,   8.77464074,   7.97939854,   7.2996954 ,\n",
       "         3.8192999 ,  21.68567821,  56.93835966,  15.80407381,\n",
       "        20.93533304,   9.54656805,  47.12430863,  31.42700226,\n",
       "        48.92385722,  50.06218812,  92.23725182,  26.79224226,\n",
       "         7.2163213 ,   6.70482846,   5.48462019,  25.38046495,\n",
       "        10.05619685,  18.38298623,   6.82906133,   6.74353896,\n",
       "         2.49846249,   5.52535359,  93.00104504,   4.54505257,\n",
       "        38.20639905,   6.81490479,  18.26892982, 175.99700597,\n",
       "         5.67843541,  47.38497444,  68.77220004,   2.08620392,\n",
       "        48.29855614,   2.41127122,   2.81105683, 119.21877713,\n",
       "        24.00768635,  15.19024144,   8.06301718,  10.42991293,\n",
       "         2.67624891,   4.50193527,  20.54452103,  10.89297803,\n",
       "        29.01524329,   6.3879341 ,   9.04463828,  17.79625309,\n",
       "       123.8905683 ,  32.43505918,  21.38837205,  10.15285986,\n",
       "        27.7183644 ,  30.90108861,  16.28033744,   5.4328422 ,\n",
       "         5.3638426 ,   8.65292005,   4.18941168,  42.13329718,\n",
       "        41.26284085,   8.56282925, 124.75585508,   9.10364265,\n",
       "        36.39068396,   1.19205915,  19.07290176,   4.93196413,\n",
       "        15.43922372,  25.58791093,  54.9822383 ,  23.90512462,\n",
       "        20.0008102 ,  20.42781618, 179.45962533, 253.94226027,\n",
       "        16.59041375,  49.22559971,  37.49917881,  32.12227908,\n",
       "         5.03485017,  27.07497158,  10.57994163,   8.73204935,\n",
       "        31.57553907,  38.43149895,   6.61039039,  81.45748408,\n",
       "         5.1282099 ,  75.79274123,   9.42522004,   4.79423488,\n",
       "        43.11443341,  19.69825841,  23.49454908,  74.30791033,\n",
       "       396.76997335, 104.02435643,  15.78676673,  14.09985598,\n",
       "       150.71891857,  20.09308534,  95.09794425,  46.52176704,\n",
       "        25.35058085,   5.20358226,  50.90354107,  30.92868079,\n",
       "       110.96657754,  35.94394518,  95.87244206,  67.22218281,\n",
       "         3.77298508,  14.70022039,  38.99397896,  14.47319505,\n",
       "        40.43151265,  13.75812725,  21.2030326 ,   7.64190915,\n",
       "        25.57420364,  48.12003295,  19.69797737, 173.96831917,\n",
       "        46.80039701,   5.48655923,   2.5812473 , 172.89090338,\n",
       "        31.76331879,   6.07246189,  18.69958201,  29.9648977 ,\n",
       "         2.78720302,  16.03024702,  28.12893571,  30.29935856,\n",
       "        17.51259875,   3.14486544,  20.88901188,  16.03573083,\n",
       "         2.52172983,  21.2822778 ,   9.00777504,  49.53310834,\n",
       "        64.48169442,  10.1215588 ,  37.54452996,  14.44471815,\n",
       "        37.15833031,  43.43675349,  77.81584296,  17.04660833,\n",
       "        17.82694457,   9.41786758,  22.36085042,   7.7054953 ,\n",
       "        22.03460315,   7.48966309,   8.34239475,   8.48659621,\n",
       "        14.14103072,  17.51056341,   7.88918181,  24.34923518,\n",
       "        68.35940669,  14.94068589,  25.85144746,  12.11493302,\n",
       "        14.77351972,  14.17189735,  49.58234543,  14.74111292,\n",
       "        14.70207184,  25.2655626 ,  28.22447456,  23.3787897 ,\n",
       "        10.31252164,  41.29320793,  19.74148721, 101.15831335,\n",
       "        33.78514031,  13.72165575,  35.23062736,  41.81348223,\n",
       "        14.48338639,  40.08399163,   8.68601409,  12.32560114,\n",
       "       208.35013287,  19.01307278,  32.44914877,  10.81415093,\n",
       "        14.47764183,  31.05602932,  25.09422973,  54.84087616,\n",
       "        12.5291646 ,  68.50379368,  19.9512262 ,  66.45545304,\n",
       "        22.78455926,   6.79259613,  40.56787602,  43.59685487,\n",
       "        56.34184611, 123.93779649,  15.53678887,   7.68101549,\n",
       "         6.14778669, 184.49068203, 202.81130095,   5.98630013,\n",
       "        46.08197702,  21.31115517,  16.80548536,  67.77826141,\n",
       "        42.29950396,  13.60445986,  50.14175491,  37.3113508 ,\n",
       "        60.86171342,   8.99593273,   4.15841348,  55.19125661,\n",
       "         5.50624726,  40.35041552,   3.96230237,  38.30815286,\n",
       "        33.7259257 ,  53.66909806,  57.9154339 ,   2.07929771,\n",
       "         2.2458467 ,  19.78186669,  21.17583998,  40.88643041,\n",
       "         3.63115553,  32.79690246,   2.15537882,  18.49860558,\n",
       "       329.40331449,   6.3803061 ,   4.90699016,  41.80980184,\n",
       "        15.82024654,  28.78525154,  51.56426518,  11.73521782,\n",
       "        39.56340353,  65.69011809,   5.21074682,  49.83493914,\n",
       "        11.68773805,  18.89295987,  19.47299437,  20.31175672,\n",
       "        28.48119749,   6.9093169 ,   2.35106117,  30.37460356,\n",
       "        31.51341524,  27.88907375,  31.05176365,  25.9602032 ,\n",
       "        10.85054151,  27.39212747,   3.21823741,  22.76523249,\n",
       "        38.44171688,  36.84933157,   4.74962483,  15.05101747,\n",
       "       280.13745851,  15.58322154,  16.9221057 ,  10.90245869,\n",
       "        13.13137752,   2.52643243,  10.790569  ,  42.61802841,\n",
       "         8.81642762,   7.66323652,  14.21002804,  15.07866671,\n",
       "        21.33269355,  15.11301136,  16.02626891,  21.52428591,\n",
       "        16.46774537,  15.92576281,  14.35641458,   7.31639863,\n",
       "        13.56239155,   6.77197298,  23.86782983,  22.10817031,\n",
       "       110.63727915, 151.34816339,   7.45759532,  10.93967578,\n",
       "        14.37395695,   3.67305531, 106.56495958,   7.23775263,\n",
       "        34.02908182,   4.20292696,   2.42288447,  37.18327745,\n",
       "        22.17326815,  66.30077602,   6.50644123,   7.07457266])"
      ]
     },
     "execution_count": 117,
     "metadata": {},
     "output_type": "execute_result"
    }
   ],
   "source": [
    "log_normal_data"
   ]
  },
  {
   "cell_type": "code",
   "execution_count": 118,
   "id": "ca14d50a",
   "metadata": {},
   "outputs": [
    {
     "data": {
      "text/plain": [
       "<Axes: ylabel='Count'>"
      ]
     },
     "execution_count": 118,
     "metadata": {},
     "output_type": "execute_result"
    },
    {
     "data": {
      "image/png": "[encoded data removed]",
      "text/plain": [
       "<Figure size 640x480 with 1 Axes>"
      ]
     },
     "metadata": {},
     "output_type": "display_data"
    }
   ],
   "source": [
    "sns.histplot(log_normal_data,kde=True)"
   ]
  },
  {
   "cell_type": "code",
   "execution_count": 120,
   "id": "26212bc5",
   "metadata": {},
   "outputs": [],
   "source": [
    "normal_data=np.log(log_normal_data)"
   ]
  },
  {
   "cell_type": "code",
   "execution_count": 121,
   "id": "8bdc0c96",
   "metadata": {},
   "outputs": [
    {
     "data": {
      "text/plain": [
       "<Axes: ylabel='Count'>"
      ]
     },
     "execution_count": 121,
     "metadata": {},
     "output_type": "execute_result"
    },
    {
     "data": {
      "image/png": "[encoded data removed]",
      "text/plain": [
       "<Figure size 640x480 with 1 Axes>"
      ]
     },
     "metadata": {},
     "output_type": "display_data"
    }
   ],
   "source": [
    "sns.histplot(normal_data,kde=True)"
   ]
  },
  {
   "cell_type": "code",
   "execution_count": 143,
   "id": "52d2fd25",
   "metadata": {},
   "outputs": [],
   "source": [
    "#left wkewed data\n",
    "left_skewed_data=np.random.lognormal(5,0.01,1000)"
   ]
  },
  {
   "cell_type": "code",
   "execution_count": 144,
   "id": "b4ed2048",
   "metadata": {},
   "outputs": [
    {
     "data": {
      "text/plain": [
       "<Axes: ylabel='Count'>"
      ]
     },
     "execution_count": 144,
     "metadata": {},
     "output_type": "execute_result"
    },
    {
     "data": {
      "image/png": "[encoded data removed]",
      "text/plain": [
       "<Figure size 640x480 with 1 Axes>"
      ]
     },
     "metadata": {},
     "output_type": "display_data"
    }
   ],
   "source": [
    "sns.histplot(left_skewed_data,kde=True)"
   ]
  },
  {
   "cell_type": "code",
   "execution_count": null,
   "id": "6ea62d9e",
   "metadata": {},
   "outputs": [],
   "source": []
  },
  {
   "cell_type": "code",
   "execution_count": 155,
   "id": "30d290f8",
   "metadata": {},
   "outputs": [],
   "source": [
    "def plot_data(sample):\n",
    "    plt.figure(figsize=[10,5])\n",
    "    plt.subplot(1,2,1)\n",
    "    sns.histplot(sample,kde=True)\n",
    "    plt.subplot(1,2,2)\n",
    "    stats.probplot(sample,dist='norm',plot=pylab)\n",
    "    plt.show()"
   ]
  },
  {
   "cell_type": "code",
   "execution_count": 156,
   "id": "a0eca589",
   "metadata": {},
   "outputs": [
    {
     "data": {
      "image/png": "[encoded data removed]",
      "text/plain": [
       "<Figure size 1000x500 with 2 Axes>"
      ]
     },
     "metadata": {},
     "output_type": "display_data"
    }
   ],
   "source": [
    "plot_data(log_normal_data)"
   ]
  },
  {
   "cell_type": "markdown",
   "id": "a2eb4248",
   "metadata": {},
   "source": [
    "here the theoritical assumption and graphical or observed assumption are different i.e the distribution is normal or note that shows in q-q plot"
   ]
  },
  {
   "cell_type": "code",
   "execution_count": 157,
   "id": "d9709625",
   "metadata": {},
   "outputs": [
    {
     "data": {
      "image/png": "[encoded data removed]",
      "text/plain": [
       "<Figure size 1000x500 with 2 Axes>"
      ]
     },
     "metadata": {},
     "output_type": "display_data"
    }
   ],
   "source": [
    "plot_data(np.log(log_normal_data))"
   ]
  },
  {
   "cell_type": "markdown",
   "id": "394875af",
   "metadata": {},
   "source": [
    "But here theoritical and graphical assumption are same here the data is normal distribution"
   ]
  },
  {
   "cell_type": "markdown",
   "id": "dda046db",
   "metadata": {},
   "source": [
    "# Uniform distribution"
   ]
  },
  {
   "cell_type": "code",
   "execution_count": 161,
   "id": "b4bb4975",
   "metadata": {
    "scrolled": false
   },
   "outputs": [
    {
     "data": {
      "text/plain": [
       "array([5.75683955e-01, 7.54944805e-01, 4.36566216e-02, 8.69809121e-01,\n",
       "       2.54610177e-02, 6.86658872e-01, 4.23724054e-01, 8.99130819e-03,\n",
       "       5.85109865e-01, 6.49669545e-01, 9.04041969e-01, 2.02388537e-01,\n",
       "       9.19725102e-01, 2.73983042e-01, 3.88449455e-02, 3.63110425e-02,\n",
       "       4.22877229e-01, 4.43748777e-01, 6.65629955e-01, 7.76622964e-01,\n",
       "       3.30731852e-02, 4.92452399e-01, 8.00570261e-01, 3.04243948e-01,\n",
       "       4.18386817e-01, 9.14412001e-01, 3.59742354e-01, 6.88250567e-01,\n",
       "       7.84101136e-01, 7.26992246e-01, 7.32625565e-01, 1.55741310e-01,\n",
       "       8.84372532e-01, 6.31818838e-01, 7.39175213e-02, 7.12776461e-01,\n",
       "       6.01061391e-01, 2.15454549e-01, 2.75846872e-02, 3.98223361e-01,\n",
       "       7.49513680e-01, 3.78779056e-01, 7.73670238e-01, 8.54940210e-01,\n",
       "       5.27219909e-01, 7.44930918e-01, 2.90842027e-01, 4.25479340e-01,\n",
       "       3.43193031e-01, 9.17523432e-01, 3.31414595e-01, 4.49960348e-01,\n",
       "       1.97252803e-01, 5.51846379e-01, 9.87351332e-01, 5.20701625e-01,\n",
       "       5.34836951e-01, 8.75569581e-01, 8.58512557e-01, 7.98744833e-01,\n",
       "       8.87997448e-01, 8.41162807e-01, 8.59051749e-01, 7.39302235e-02,\n",
       "       2.47434852e-02, 9.78012452e-01, 7.01728977e-01, 2.65465802e-01,\n",
       "       8.06074060e-01, 2.59344157e-01, 3.31028011e-01, 5.72366352e-01,\n",
       "       1.58535744e-01, 8.30586687e-01, 5.36880502e-02, 9.22541743e-01,\n",
       "       1.12763307e-01, 8.22517095e-02, 3.56011620e-01, 8.61103016e-01,\n",
       "       4.70346834e-01, 3.44388969e-01, 5.76111763e-01, 8.00624787e-01,\n",
       "       6.52132663e-01, 8.31856260e-01, 7.66210022e-01, 2.79807693e-01,\n",
       "       1.48425312e-01, 4.09454981e-01, 3.40584877e-01, 5.94344348e-01,\n",
       "       7.49066604e-01, 7.45787309e-01, 7.15870463e-01, 3.08002530e-01,\n",
       "       9.51007960e-01, 6.70234215e-01, 4.32190564e-01, 5.39277543e-01,\n",
       "       6.19457908e-01, 5.61343945e-01, 7.82275786e-01, 5.91188462e-01,\n",
       "       3.33971190e-01, 8.37886113e-01, 9.64132715e-01, 3.79326770e-01,\n",
       "       1.49013360e-02, 5.75833555e-01, 1.25734544e-01, 6.63317530e-01,\n",
       "       8.19918567e-01, 3.47460136e-01, 8.54225917e-01, 6.33635907e-01,\n",
       "       1.92683719e-01, 6.24233844e-01, 2.54140618e-01, 4.33422066e-01,\n",
       "       1.31637101e-01, 7.39938685e-01, 1.86155012e-01, 4.50215718e-02,\n",
       "       1.86980936e-01, 6.85119116e-01, 7.58599711e-01, 2.24292522e-01,\n",
       "       7.83395287e-01, 8.57321986e-02, 5.00408421e-01, 8.20559819e-01,\n",
       "       1.62089079e-01, 3.92066124e-01, 4.86624242e-01, 2.81046737e-01,\n",
       "       6.20739979e-01, 3.14851583e-01, 4.29204657e-01, 4.54918791e-01,\n",
       "       2.10359337e-01, 5.57487658e-01, 4.25755985e-01, 8.42990537e-01,\n",
       "       2.93415610e-01, 9.39571772e-01, 1.06330453e-01, 5.64409219e-01,\n",
       "       7.63507741e-01, 8.91444243e-01, 3.86367048e-01, 7.64812198e-01,\n",
       "       1.66966912e-01, 9.70726507e-02, 8.40166034e-01, 5.04063025e-01,\n",
       "       8.06128532e-01, 2.54432960e-01, 3.51860764e-01, 7.25333984e-01,\n",
       "       7.22309349e-01, 1.27939687e-01, 9.63682982e-01, 2.72752059e-01,\n",
       "       5.32818660e-01, 9.35582524e-01, 9.81598163e-02, 3.02252818e-01,\n",
       "       9.88867534e-01, 8.52461904e-01, 3.92962008e-01, 8.23234390e-01,\n",
       "       4.15992709e-01, 2.99905844e-01, 9.11017197e-01, 9.18178575e-01,\n",
       "       1.10343489e-01, 9.95085704e-01, 1.07867134e-01, 3.38022788e-01,\n",
       "       6.47546119e-01, 2.36146098e-01, 6.76296435e-01, 4.52153586e-01,\n",
       "       1.97932611e-01, 4.89721866e-01, 4.30572620e-01, 2.91901576e-01,\n",
       "       2.87424372e-01, 4.73074295e-01, 5.24520766e-01, 6.90024198e-01,\n",
       "       5.29150985e-01, 6.53246825e-04, 2.98174410e-01, 1.85349163e-01,\n",
       "       7.78548948e-01, 6.78120153e-01, 9.59809559e-02, 7.57660593e-01,\n",
       "       3.48805103e-01, 5.72932652e-02, 2.04281362e-01, 1.64565302e-01,\n",
       "       3.54361171e-01, 7.65135446e-01, 4.80459948e-01, 6.39660775e-01,\n",
       "       2.81484712e-01, 6.31173744e-01, 1.12569386e-01, 1.49577619e-01,\n",
       "       3.24543157e-03, 6.75035875e-01, 8.18456963e-01, 1.63225870e-01,\n",
       "       5.00879495e-01, 6.05526157e-01, 3.00101995e-01, 1.74592585e-01,\n",
       "       1.89838275e-01, 5.91072453e-01, 3.12829847e-01, 9.25023046e-01,\n",
       "       9.46283364e-01, 1.79852716e-01, 3.12491078e-02, 8.05223087e-01,\n",
       "       2.96796950e-01, 7.85107208e-01, 4.43366911e-01, 3.58216426e-01,\n",
       "       8.16242817e-01, 7.04326853e-02, 6.57138738e-01, 5.87753131e-01,\n",
       "       4.87533189e-01, 9.72116651e-01, 2.23717262e-01, 9.94531997e-01,\n",
       "       1.42610745e-01, 4.16477912e-01, 1.71974681e-01, 2.45647743e-01,\n",
       "       6.25698014e-01, 4.76001319e-01, 2.05326788e-01, 9.23565791e-01,\n",
       "       1.82945876e-01, 7.40194197e-01, 9.30992342e-01, 6.92103707e-01,\n",
       "       1.72415607e-01, 4.29344877e-01, 9.74428558e-01, 8.02508945e-01,\n",
       "       9.48943923e-01, 9.45677730e-01, 6.07614254e-01, 9.17731112e-01,\n",
       "       8.35099736e-01, 8.16411030e-01, 8.56136917e-01, 5.65447159e-01,\n",
       "       9.10211244e-01, 9.05939047e-01, 3.42074854e-02, 2.72869520e-01,\n",
       "       8.14731464e-01, 3.88123627e-01, 1.05153843e-01, 4.28204782e-01,\n",
       "       2.03361411e-01, 4.26523515e-01, 1.27152073e-01, 6.70907830e-01,\n",
       "       4.06347647e-01, 8.11488248e-01, 9.27083017e-01, 9.72638817e-01,\n",
       "       5.20810160e-01, 9.23988778e-01, 8.81165016e-01, 7.39472616e-01,\n",
       "       7.48288706e-01, 1.59958808e-01, 5.83424553e-01, 9.46890980e-01,\n",
       "       6.54995566e-02, 1.82490174e-01, 8.81748074e-01, 2.94640261e-01,\n",
       "       1.61458810e-01, 3.87521657e-01, 7.78260344e-01, 4.89499195e-01,\n",
       "       5.80965361e-01, 7.82685308e-01, 3.02135043e-01, 9.83048917e-01,\n",
       "       5.33816928e-01, 6.48224627e-01, 6.49875605e-01, 2.45433816e-02,\n",
       "       8.15156090e-02, 9.05943324e-01, 8.22055139e-01, 6.13417978e-01,\n",
       "       9.84438413e-02, 3.76929825e-01, 2.31259413e-01, 3.64309874e-01,\n",
       "       2.71313823e-01, 5.86344941e-01, 6.94055470e-01, 5.28071930e-01,\n",
       "       8.54052519e-01, 9.98862754e-01, 9.48884359e-01, 2.69244596e-01,\n",
       "       7.80583539e-01, 2.03450100e-01, 1.77141910e-02, 9.74872753e-01,\n",
       "       2.40700101e-01, 6.97721312e-01, 2.62298392e-01, 5.47867943e-01,\n",
       "       4.01892101e-01, 8.45486364e-01, 7.23604991e-01, 1.95403902e-01,\n",
       "       5.37338196e-01, 7.30234870e-01, 1.75180217e-01, 7.01936771e-02,\n",
       "       7.21591006e-01, 3.76441664e-01, 3.19975503e-01, 2.66129201e-01,\n",
       "       9.78350427e-01, 4.23880421e-01, 5.52372009e-01, 9.70755885e-01,\n",
       "       6.64404533e-01, 9.17048783e-01, 2.66986261e-01, 8.13273574e-01,\n",
       "       2.26065990e-01, 9.42418176e-01, 9.52047125e-01, 8.97907803e-01,\n",
       "       8.41313855e-01, 7.78590849e-01, 4.00613742e-01, 7.18365390e-01,\n",
       "       6.26251147e-01, 8.51084670e-01, 9.93567684e-01, 2.06202389e-01,\n",
       "       8.97826783e-02, 6.45380415e-01, 4.48673918e-01, 6.03064669e-01,\n",
       "       6.10442043e-02, 2.17607141e-01, 6.79341956e-01, 1.08334720e-01,\n",
       "       9.20228762e-01, 6.72854143e-01, 5.08978666e-02, 1.71905761e-01,\n",
       "       8.35648149e-01, 4.75649694e-01, 6.45468666e-02, 3.35149080e-01,\n",
       "       3.83477577e-01, 6.22287318e-01, 1.14763680e-01, 4.75763615e-01,\n",
       "       2.08031931e-01, 8.62962199e-01, 8.26788440e-01, 7.79794001e-01,\n",
       "       3.18330810e-01, 2.50945442e-01, 3.79272089e-01, 7.66993002e-01,\n",
       "       4.75958317e-01, 5.66743468e-01, 2.49527190e-02, 2.39876924e-01,\n",
       "       7.80538075e-01, 4.06541548e-01, 4.64897848e-01, 5.69141432e-02,\n",
       "       6.30431800e-01, 6.48597514e-01, 8.64788121e-02, 1.39931305e-01,\n",
       "       9.52078821e-01, 7.44955301e-01, 5.92991748e-01, 7.96766230e-01,\n",
       "       1.63205493e-01, 7.59228235e-01, 3.23408444e-01, 7.10878077e-01,\n",
       "       1.06353498e-01, 7.76541364e-01, 4.89390113e-02, 8.37267884e-02,\n",
       "       2.95268274e-01, 6.15627129e-01, 4.32665327e-01, 1.76408689e-01,\n",
       "       4.20035597e-01, 9.50406381e-02, 7.38391720e-01, 3.25049643e-01,\n",
       "       9.81757341e-01, 9.29602505e-01, 6.05833396e-01, 3.04440492e-01,\n",
       "       9.95504127e-01, 7.64936107e-01, 2.69880010e-01, 5.16583138e-01,\n",
       "       4.03248910e-01, 1.19324856e-02, 1.04759901e-01, 2.06549919e-01,\n",
       "       3.09184920e-01, 2.67601964e-01, 7.93935625e-01, 6.72882610e-01,\n",
       "       3.49802838e-02, 7.54926822e-01, 9.26633732e-01, 5.54872106e-01,\n",
       "       3.14446537e-01, 9.41216206e-01, 9.45433305e-01, 8.35152633e-01,\n",
       "       1.98911825e-01, 1.84704434e-02, 5.57096291e-01, 5.44341425e-03,\n",
       "       5.59021711e-01, 9.32518546e-01, 5.00029914e-01, 5.75439337e-01,\n",
       "       4.68322597e-01, 5.51497807e-01, 5.51649771e-02, 8.27275924e-01,\n",
       "       9.32677033e-01, 6.69234477e-01, 2.54213574e-01, 8.99318586e-01,\n",
       "       2.69269768e-01, 1.70471952e-01, 6.99341648e-01, 3.95318774e-01,\n",
       "       1.17181272e-01, 5.98995381e-01, 3.07570906e-01, 5.95518310e-01,\n",
       "       9.37058909e-01, 6.37209566e-01, 7.43325431e-01, 3.32281558e-01,\n",
       "       3.14778423e-01, 2.36084424e-01, 8.39999823e-01, 8.31249906e-01,\n",
       "       6.76532217e-02, 9.98096433e-01, 8.86165657e-01, 5.41415266e-01,\n",
       "       3.35801444e-01, 5.21600261e-01, 9.20581717e-02, 5.30143918e-01,\n",
       "       9.13273066e-01, 9.00285572e-01, 3.66610473e-01, 8.27104326e-01,\n",
       "       1.73312554e-01, 1.75802903e-01, 9.27187282e-01, 8.79176281e-01,\n",
       "       8.29957876e-01, 1.69964788e-01, 6.19186322e-01, 2.07679601e-01,\n",
       "       7.51042467e-01, 7.26373288e-01, 9.62679636e-01, 9.59612151e-01])"
      ]
     },
     "execution_count": 161,
     "metadata": {},
     "output_type": "execute_result"
    }
   ],
   "source": [
    "uniform_data=np.random.uniform(size=500)\n",
    "uniform_data"
   ]
  },
  {
   "cell_type": "code",
   "execution_count": 164,
   "id": "3d932c68",
   "metadata": {},
   "outputs": [
    {
     "name": "stderr",
     "output_type": "stream",
     "text": [
      "C:\\Users\\madhu\\AppData\\Local\\Temp\\ipykernel_19372\\3055329216.py:1: UserWarning: \n",
      "\n",
      "`distplot` is a deprecated function and will be removed in seaborn v0.14.0.\n",
      "\n",
      "Please adapt your code to use either `displot` (a figure-level function with\n",
      "similar flexibility) or `kdeplot` (an axes-level function for kernel density plots).\n",
      "\n",
      "For a guide to updating your code to use the new functions, please see\n",
      "https://gist.github.com/mwaskom/de44147ed2974457ad6372750bbe5751\n",
      "\n",
      "  sns.distplot(uniform_data,hist=False)\n"
     ]
    },
    {
     "data": {
      "text/plain": [
       "<Axes: ylabel='Density'>"
      ]
     },
     "execution_count": 164,
     "metadata": {},
     "output_type": "execute_result"
    },
    {
     "data": {
      "image/png": "[encoded data removed]",
      "text/plain": [
       "<Figure size 640x480 with 1 Axes>"
      ]
     },
     "metadata": {},
     "output_type": "display_data"
    }
   ],
   "source": [
    "sns.distplot(uniform_data,hist=False)"
   ]
  },
  {
   "cell_type": "code",
   "execution_count": 166,
   "id": "a03c0abd",
   "metadata": {},
   "outputs": [
    {
     "data": {
      "text/plain": [
       "<Axes: ylabel='Count'>"
      ]
     },
     "execution_count": 166,
     "metadata": {},
     "output_type": "execute_result"
    },
    {
     "data": {
      "image/png": "[encoded data removed]",
      "text/plain": [
       "<Figure size 640x480 with 1 Axes>"
      ]
     },
     "metadata": {},
     "output_type": "display_data"
    }
   ],
   "source": [
    "sns.histplot(np.random.randint(1,8,size=500))"
   ]
  },
  {
   "cell_type": "markdown",
   "id": "65f0ae6a",
   "metadata": {},
   "source": [
    "# Bernouli distribution"
   ]
  },
  {
   "cell_type": "code",
   "execution_count": 168,
   "id": "91851359",
   "metadata": {},
   "outputs": [
    {
     "data": {
      "text/plain": [
       "array([0, 0, 1, 0, 1, 0, 0, 0, 0, 0, 1, 0, 0, 0, 0, 0, 0, 0, 0, 0, 0, 0,\n",
       "       0, 0, 0, 1, 0, 0, 0, 0, 0, 0, 1, 1, 0, 0, 0, 1, 1, 0, 0, 0, 0, 0,\n",
       "       0, 0, 0, 0, 1, 0, 1, 0, 0, 1, 1, 0, 0, 0, 1, 1, 0, 0, 0, 1, 0, 0,\n",
       "       0, 0, 0, 0, 1, 0, 0, 0, 1, 0, 0, 1, 1, 0, 0, 1, 0, 0, 1, 0, 0, 1,\n",
       "       1, 0, 0, 1, 1, 1, 0, 0, 0, 0, 0, 0, 0, 0, 0, 0, 1, 0, 0, 0, 0, 0,\n",
       "       1, 0, 0, 0, 0, 1, 0, 0, 0, 1, 1, 1, 0, 0, 0, 0, 1, 0, 0, 0, 1, 0,\n",
       "       1, 0, 0, 1, 1, 0, 1, 0, 0, 0, 0, 0, 1, 0, 0, 0, 0, 0, 1, 0, 0, 0,\n",
       "       0, 1, 1, 1, 0, 0, 0, 0, 0, 1, 0, 1, 0, 0, 0, 0, 0, 1, 0, 0, 0, 1,\n",
       "       0, 0, 1, 1, 0, 0, 0, 0, 0, 0, 0, 1, 0, 0, 1, 0, 0, 1, 0, 0, 0, 0,\n",
       "       0, 1, 1, 0, 1, 0, 0, 1, 0, 1, 1, 0, 0, 0, 0, 0, 0, 0, 0, 1, 0, 1,\n",
       "       1, 1, 1, 0, 1, 1, 0, 0, 1, 0, 0, 0, 0, 0, 1, 1, 0, 0, 1, 0, 0, 0,\n",
       "       0, 1, 0, 1, 0, 0, 0, 0, 0, 0, 0, 0, 1, 1, 1, 0, 1, 0, 0, 0, 0, 0,\n",
       "       1, 0, 1, 0, 0, 0, 0, 0, 1, 0, 1, 1, 1, 1, 0, 0, 0, 0, 0, 1, 0, 1,\n",
       "       1, 0, 1, 0, 0, 0, 0, 1, 0, 1, 0, 1, 1, 0, 1, 0, 0, 0, 1, 0, 0, 0,\n",
       "       0, 0, 1, 1, 0, 0, 0, 0, 0, 0, 0, 0, 0, 0, 0, 0, 0, 1, 1, 0, 1, 0,\n",
       "       0, 1, 0, 1, 0, 0, 1, 1, 0, 0, 1, 0, 1, 0, 0, 0, 0, 0, 0, 0, 0, 0,\n",
       "       0, 1, 1, 0, 0, 1, 0, 0, 0, 0, 0, 1, 0, 1, 1, 0, 0, 0, 1, 0, 0, 0,\n",
       "       1, 1, 0, 0, 1, 1, 1, 0, 1, 0, 0, 1, 0, 1, 0, 0, 0, 0, 0, 1, 0, 0,\n",
       "       1, 1, 0, 0, 0, 0, 0, 0, 0, 0, 1, 0, 0, 0, 0, 1, 0, 1, 0, 0, 0, 0,\n",
       "       0, 0, 1, 1, 0, 1, 1, 1, 1, 1, 0, 0, 0, 0, 0, 1, 1, 1, 1, 0, 0, 0,\n",
       "       0, 0, 1, 0, 1, 1, 1, 0, 1, 0, 1, 0, 0, 1, 1, 1, 1, 1, 1, 0, 0, 0,\n",
       "       0, 0, 0, 0, 1, 0, 0, 0, 0, 0, 0, 0, 0, 1, 1, 0, 0, 0, 0, 0, 0, 1,\n",
       "       0, 1, 0, 0, 1, 0, 1, 0, 0, 0, 0, 1, 1, 0, 1, 1, 1, 0, 1, 1, 0, 1,\n",
       "       1, 0, 1, 0, 1, 0, 0, 0, 0, 0, 0, 0, 0, 0, 0, 1, 1, 1, 0, 1, 0, 0,\n",
       "       0, 0, 0, 0, 0, 0, 0, 0, 0, 0, 0, 0, 1, 0, 0, 0, 0, 0, 0, 0, 0, 0,\n",
       "       0, 1, 0, 0, 0, 1, 1, 1, 0, 1, 0, 1, 0, 0, 1, 0, 0, 0, 0, 0, 0, 0,\n",
       "       1, 0, 0, 1, 0, 0, 0, 0, 0, 0, 0, 0, 0, 0, 1, 0, 0, 0, 0, 0, 0, 1,\n",
       "       0, 0, 0, 0, 0, 0, 1, 1, 1, 0, 0, 0, 0, 0, 0, 0, 0, 0, 0, 0, 1, 0,\n",
       "       0, 0, 1, 0, 0, 1, 0, 0, 1, 0, 0, 0, 1, 1, 1, 1, 0, 0, 0, 0, 0, 1,\n",
       "       1, 0, 0, 0, 1, 0, 0, 1, 0, 0, 0, 0, 0, 0, 0, 0, 1, 1, 1, 1, 0, 0,\n",
       "       0, 0, 0, 0, 0, 0, 0, 0, 0, 1, 1, 0, 1, 1, 0, 0, 0, 0, 0, 0, 0, 0,\n",
       "       1, 0, 1, 0, 1, 0, 0, 0, 0, 1, 0, 0, 0, 0, 1, 0, 1, 1, 0, 1, 0, 1,\n",
       "       0, 1, 0, 0, 0, 0, 0, 0, 1, 0, 0, 0, 0, 0, 1, 1, 0, 0, 0, 0, 0, 0,\n",
       "       0, 1, 0, 0, 0, 0, 0, 1, 1, 0, 0, 0, 0, 1, 1, 0, 0, 0, 0, 0, 0, 1,\n",
       "       0, 1, 0, 1, 0, 0, 0, 0, 1, 0, 1, 1, 0, 0, 0, 1, 0, 0, 0, 0, 0, 0,\n",
       "       0, 0, 0, 0, 1, 1, 1, 0, 1, 0, 0, 0, 0, 1, 0, 1, 0, 0, 0, 0, 0, 0,\n",
       "       1, 0, 0, 1, 0, 0, 1, 0, 0, 0, 0, 0, 0, 0, 0, 1, 0, 1, 1, 1, 0, 0,\n",
       "       0, 0, 0, 1, 0, 0, 0, 1, 0, 1, 0, 0, 0, 0, 0, 0, 1, 0, 0, 1, 0, 0,\n",
       "       1, 0, 0, 1, 1, 0, 0, 0, 1, 0, 1, 0, 0, 0, 0, 0, 0, 1, 0, 1, 0, 1,\n",
       "       0, 1, 0, 0, 0, 0, 0, 0, 1, 0, 0, 0, 0, 0, 1, 0, 0, 1, 1, 0, 1, 1,\n",
       "       0, 1, 0, 0, 0, 0, 0, 0, 1, 0, 0, 0, 0, 1, 0, 1, 0, 0, 0, 0, 0, 1,\n",
       "       1, 0, 0, 0, 0, 1, 1, 1, 1, 0, 1, 1, 0, 1, 0, 1, 1, 0, 0, 1, 0, 0,\n",
       "       0, 1, 0, 0, 0, 1, 0, 0, 1, 1, 0, 1, 1, 0, 0, 1, 0, 0, 0, 0, 1, 0,\n",
       "       0, 0, 0, 0, 0, 1, 0, 0, 1, 0, 1, 0, 0, 1, 0, 0, 0, 0, 0, 0, 0, 0,\n",
       "       0, 0, 1, 0, 1, 0, 1, 0, 0, 0, 0, 1, 1, 1, 1, 0, 0, 0, 0, 0, 0, 1,\n",
       "       0, 1, 0, 1, 0, 0, 0, 0, 0, 0])"
      ]
     },
     "execution_count": 168,
     "metadata": {},
     "output_type": "execute_result"
    }
   ],
   "source": [
    "p=0.3\n",
    "sample_size=1000\n",
    "bernouli_data=np.random.choice([0,1],size=sample_size,p=[1-p,p])\n",
    "bernouli_data"
   ]
  },
  {
   "cell_type": "code",
   "execution_count": 171,
   "id": "6299c6d3",
   "metadata": {},
   "outputs": [
    {
     "data": {
      "text/plain": [
       "<Axes: ylabel='Count'>"
      ]
     },
     "execution_count": 171,
     "metadata": {},
     "output_type": "execute_result"
    },
    {
     "data": {
      "image/png": "[encoded data removed]",
      "text/plain": [
       "<Figure size 640x480 with 1 Axes>"
      ]
     },
     "metadata": {},
     "output_type": "display_data"
    }
   ],
   "source": [
    "sns.histplot(bernouli_data,bins=2,color=\"yellow\")"
   ]
  },
  {
   "cell_type": "markdown",
   "id": "45913772",
   "metadata": {},
   "source": [
    "# binomial distribution"
   ]
  },
  {
   "cell_type": "code",
   "execution_count": 177,
   "id": "c635735d",
   "metadata": {},
   "outputs": [],
   "source": [
    "no_of_trials=10\n",
    "probability=0.6\n",
    "binomial_data=np.random.binomial(no_of_trials,probability,1000)"
   ]
  },
  {
   "cell_type": "code",
   "execution_count": 178,
   "id": "ec531086",
   "metadata": {},
   "outputs": [
    {
     "name": "stderr",
     "output_type": "stream",
     "text": [
      "C:\\Users\\madhu\\AppData\\Local\\Temp\\ipykernel_19372\\885875619.py:1: UserWarning: \n",
      "\n",
      "`distplot` is a deprecated function and will be removed in seaborn v0.14.0.\n",
      "\n",
      "Please adapt your code to use either `displot` (a figure-level function with\n",
      "similar flexibility) or `histplot` (an axes-level function for histograms).\n",
      "\n",
      "For a guide to updating your code to use the new functions, please see\n",
      "https://gist.github.com/mwaskom/de44147ed2974457ad6372750bbe5751\n",
      "\n",
      "  sns.distplot(binomial_data)\n"
     ]
    },
    {
     "data": {
      "text/plain": [
       "<Axes: ylabel='Density'>"
      ]
     },
     "execution_count": 178,
     "metadata": {},
     "output_type": "execute_result"
    },
    {
     "data": {
      "image/png": "[encoded data removed]",
      "text/plain": [
       "<Figure size 640x480 with 1 Axes>"
      ]
     },
     "metadata": {},
     "output_type": "display_data"
    }
   ],
   "source": [
    "sns.distplot(binomial_data)"
   ]
  },
  {
   "cell_type": "code",
   "execution_count": 183,
   "id": "cb3ae7a8",
   "metadata": {},
   "outputs": [
    {
     "data": {
      "image/png": "[encoded data removed]",
      "text/plain": [
       "<Figure size 640x480 with 1 Axes>"
      ]
     },
     "metadata": {},
     "output_type": "display_data"
    }
   ],
   "source": [
    "poisson_data=np.random.poisson(lam=5,size=1000)\n",
    "#plotting a histogram/distplot\n",
    "ax=sns.histplot(poisson_data,color=\"green\")\n",
    "ax.set(xlabel=\"Poisson Distribution\",ylabel=\"Frequency\")\n",
    "plt.show()"
   ]
  },
  {
   "cell_type": "markdown",
   "id": "7474ed16",
   "metadata": {},
   "source": [
    "# Central limit theorem"
   ]
  },
  {
   "cell_type": "code",
   "execution_count": 184,
   "id": "cbfc2162",
   "metadata": {},
   "outputs": [
    {
     "data": {
      "text/plain": [
       "array([14, 14, 16, 14, 18, 16, 16, 17, 15, 17, 16, 14, 15, 11, 10, 16, 17,\n",
       "       13, 15, 10, 17, 11, 11, 16, 17, 18, 17, 15, 11, 13, 16, 19, 19, 18,\n",
       "       14, 17, 15, 12, 16, 10, 19, 11, 13, 11, 19, 16, 13, 15, 17, 15])"
      ]
     },
     "execution_count": 184,
     "metadata": {},
     "output_type": "execute_result"
    }
   ],
   "source": [
    "population=np.random.randint(10,20,50)\n",
    "population"
   ]
  },
  {
   "cell_type": "code",
   "execution_count": 185,
   "id": "a2cb08c6",
   "metadata": {},
   "outputs": [
    {
     "data": {
      "text/plain": [
       "14.9"
      ]
     },
     "execution_count": 185,
     "metadata": {},
     "output_type": "execute_result"
    }
   ],
   "source": [
    "np.mean(population)"
   ]
  },
  {
   "cell_type": "code",
   "execution_count": 187,
   "id": "4f2a40a2",
   "metadata": {},
   "outputs": [
    {
     "data": {
      "text/plain": [
       "15.0"
      ]
     },
     "execution_count": 187,
     "metadata": {},
     "output_type": "execute_result"
    }
   ],
   "source": [
    "np.median([population])"
   ]
  },
  {
   "cell_type": "code",
   "execution_count": 188,
   "id": "faaf840e",
   "metadata": {},
   "outputs": [
    {
     "data": {
      "text/plain": [
       "16"
      ]
     },
     "execution_count": 188,
     "metadata": {},
     "output_type": "execute_result"
    }
   ],
   "source": [
    "stat.mode(population)"
   ]
  },
  {
   "cell_type": "code",
   "execution_count": 191,
   "id": "00527732",
   "metadata": {},
   "outputs": [
    {
     "data": {
      "text/plain": [
       "array([14, 17, 19, 13, 16, 13, 11, 17, 11, 18, 16, 16, 11, 15, 18, 17, 10,\n",
       "       16, 12, 15])"
      ]
     },
     "execution_count": 191,
     "metadata": {},
     "output_type": "execute_result"
    }
   ],
   "source": [
    "#random dample from the population\n",
    "sample=np.random.choice(population,20)\n",
    "sample"
   ]
  },
  {
   "cell_type": "code",
   "execution_count": 192,
   "id": "80b723bb",
   "metadata": {},
   "outputs": [
    {
     "name": "stdout",
     "output_type": "stream",
     "text": [
      "Mean of sample 14.75\n",
      "Median of sample 15.5\n",
      "Mode of sample 16\n"
     ]
    }
   ],
   "source": [
    "print(f\"Mean of sample {np.mean(sample)}\")\n",
    "print(f\"Median of sample {np.median(sample)}\")\n",
    "print(f\"Mode of sample {stat.mode(sample)}\")"
   ]
  },
  {
   "cell_type": "code",
   "execution_count": null,
   "id": "f4e6d50b",
   "metadata": {},
   "outputs": [],
   "source": [
    "sample"
   ]
  }
 ],
 "metadata": {
  "kernelspec": {
   "display_name": "Python 3 (ipykernel)",
   "language": "python",
   "name": "python3"
  },
  "language_info": {
   "codemirror_mode": {
    "name": "ipython",
    "version": 3
   },
   "file_extension": ".py",
   "mimetype": "text/x-python",
   "name": "python",
   "nbconvert_exporter": "python",
   "pygments_lexer": "ipython3",
   "version": "3.10.9"
  }
 },
 "nbformat": 4,
 "nbformat_minor": 5
}
